{
  "cells": [
    {
      "cell_type": "markdown",
      "metadata": {
        "id": "view-in-github",
        "colab_type": "text"
      },
      "source": [
        "<a href=\"https://colab.research.google.com/github/vienskaz/ECG-CNN/blob/main/TUNEREKG_CNN_.ipynb\" target=\"_parent\"><img src=\"https://colab.research.google.com/assets/colab-badge.svg\" alt=\"Open In Colab\"/></a>"
      ]
    },
    {
      "cell_type": "code",
      "execution_count": 1,
      "metadata": {
        "id": "yDNl6nu08FYH",
        "colab": {
          "base_uri": "https://localhost:8080/"
        },
        "outputId": "2453689c-bc54-47dc-e156-696f505b2872"
      },
      "outputs": [
        {
          "output_type": "stream",
          "name": "stdout",
          "text": [
            "\u001b[?25l     \u001b[90m━━━━━━━━━━━━━━━━━━━━━━━━━━━━━━━━━━━━━━━━\u001b[0m \u001b[32m0.0/128.9 kB\u001b[0m \u001b[31m?\u001b[0m eta \u001b[36m-:--:--\u001b[0m\r\u001b[2K     \u001b[90m━━━━━━━━━━━━━━━━━━━━━━━━━━━━━━━━━━━━━━━━\u001b[0m \u001b[32m128.9/128.9 kB\u001b[0m \u001b[31m4.3 MB/s\u001b[0m eta \u001b[36m0:00:00\u001b[0m\n",
            "\u001b[?25h"
          ]
        }
      ],
      "source": [
        "pip install -q -U keras-tuner"
      ]
    },
    {
      "cell_type": "code",
      "source": [
        "from google.colab import drive\n",
        "drive.mount('/content/drive')"
      ],
      "metadata": {
        "colab": {
          "base_uri": "https://localhost:8080/"
        },
        "id": "P_pCXjrHTj4r",
        "outputId": "e6d2bdc6-b0db-463e-d8d9-4bb755d9ce73"
      },
      "execution_count": 2,
      "outputs": [
        {
          "output_type": "stream",
          "name": "stdout",
          "text": [
            "Mounted at /content/drive\n"
          ]
        }
      ]
    },
    {
      "cell_type": "code",
      "source": [
        "from mpl_toolkits.mplot3d import Axes3D\n",
        "from sklearn.preprocessing import StandardScaler\n",
        "import matplotlib.pyplot as plt\n",
        "import numpy as np\n",
        "import os\n",
        "import pandas as pd\n",
        "from keras.utils import to_categorical\n",
        "from scipy.signal import butter,filtfilt\n",
        "import tensorflow as tf\n",
        "from tensorflow.keras import layers, models\n",
        "import seaborn as sns\n",
        "from sklearn.metrics import classification_report\n",
        "import keras_tuner as kt"
      ],
      "metadata": {
        "id": "oI7B289X-gGJ"
      },
      "execution_count": 3,
      "outputs": []
    },
    {
      "cell_type": "code",
      "execution_count": 5,
      "metadata": {
        "id": "n54uhpehay07"
      },
      "outputs": [],
      "source": [
        "synthetic_twos = np.loadtxt('/content/drive/MyDrive/ecg/twosleakyrelu.csv', delimiter=',')\n",
        "synthetic_fours = np.loadtxt('/content/drive/MyDrive/ecg/foursleakyrelu.csv', delimiter=',')"
      ]
    },
    {
      "cell_type": "code",
      "execution_count": 6,
      "metadata": {
        "id": "UHrAB7jK_-E1"
      },
      "outputs": [],
      "source": [
        "mit_test_data = pd.read_csv('/content/drive/MyDrive/ecg/mitbih_test.csv', header=None)\n",
        "mit_train_data = pd.read_csv('/content/drive/MyDrive/ecg/mitbih_train.csv', header=None)\n",
        "\n",
        "X_train = mit_train_data.iloc[:, :-1].values\n",
        "y_train = mit_train_data.iloc[:, -1].values\n",
        "X_test = mit_test_data.iloc[:, :-1].values\n",
        "y_test = mit_test_data.iloc[:, -1].values\n",
        "\n",
        "normal = pd.read_csv('/content/drive/MyDrive/ecg/ptbdb_normal.csv', header=None)\n",
        "abnormal = pd.read_csv('/content/drive/MyDrive/ecg/ptbdb_abnormal.csv', header=None)\n",
        "X_normal = normal.iloc[:, :-1].values\n",
        "y_normal = np.zeros(X_normal.shape[0])\n",
        "X_abnormal = abnormal.iloc[:, :-1].values\n",
        "y_abnormal = np.ones(X_abnormal.shape[0])\n",
        "\n",
        "X = np.concatenate([X_normal, X_abnormal], axis=0)\n",
        "y = np.concatenate([y_normal, y_abnormal], axis=0)\n",
        "\n",
        "X_train = X_train.reshape((X_train.shape[0], X_train.shape[1], 1))\n",
        "X_test = X_test.reshape((X_test.shape[0], X_test.shape[1], 1))\n",
        "X = X.reshape((X.shape[0], X.shape[1], 1))\n",
        "\n",
        "Y_train = to_categorical(y_train)\n",
        "Y_test = to_categorical(y_test)"
      ]
    },
    {
      "cell_type": "code",
      "execution_count": null,
      "metadata": {
        "colab": {
          "base_uri": "https://localhost:8080/"
        },
        "id": "2koDSHxSn2Ak",
        "outputId": "55dbffbd-c984-4757-b47c-cc4ba6c7a3bb"
      },
      "outputs": [
        {
          "output_type": "stream",
          "name": "stdout",
          "text": [
            "109446\n"
          ]
        }
      ],
      "source": [
        "print(len(Y_train)+len(Y_test))"
      ]
    },
    {
      "cell_type": "code",
      "execution_count": 7,
      "metadata": {
        "id": "Lb77h4ltZJ06"
      },
      "outputs": [],
      "source": [
        "one = np.array([])\n",
        "one_label = np.array([])\n",
        "three = np.array([])\n",
        "three_label = np.array([])\n",
        "five = np.array([])\n",
        "five_label = np.array([])\n",
        "\n",
        "\n",
        "while one.shape[0] < 5000 or three.shape[0] < 5000 or five.shape[0] < 5000:\n",
        "    for i in range(len(Y_train)):\n",
        "        if np.array_equal(Y_train[i], [1.0, 0.0, 0.0, 0.0, 0.0]):\n",
        "            if one.shape[0] < 5000:\n",
        "                one = np.concatenate([one, [X_train[i]]]) if one.shape[0] > 0 else np.array([X_train[i]])\n",
        "                one_label = np.concatenate([one_label, [[1.0, 0.0, 0.0, 0.0, 0.0]]]) if one_label.shape[0] > 0 else np.array([[1.0, 0.0, 0.0, 0.0, 0.0]])\n",
        "\n",
        "        elif np.array_equal(Y_train[i], [0.0, 0.0, 1.0, 0.0, 0.0]):\n",
        "            if three.shape[0] < 5000:\n",
        "                three = np.concatenate([three, [X_train[i]]]) if three.shape[0] > 0 else np.array([X_train[i]])\n",
        "                three_label = np.concatenate([three_label, [[0.0, 0.0, 1.0, 0.0, 0.0]]]) if three_label.shape[0] > 0 else np.array([[0.0, 0.0, 1.0, 0.0, 0.0]])\n",
        "\n",
        "        elif np.array_equal(Y_train[i], [0.0, 0.0, 0.0, 0.0, 1.0]):\n",
        "            if five.shape[0] < 5000:\n",
        "                five = np.concatenate([five, [X_train[i]]]) if five.shape[0] > 0 else np.array([X_train[i]])\n",
        "                five_label = np.concatenate([five_label, [[0.0, 0.0, 0.0, 0.0, 1.0]]]) if five_label.shape[0] > 0 else np.array([[0.0, 0.0, 0.0, 0.0, 1.0]])\n",
        "\n",
        "\n"
      ]
    },
    {
      "cell_type": "code",
      "execution_count": null,
      "metadata": {
        "colab": {
          "base_uri": "https://localhost:8080/"
        },
        "id": "Bj2gq9ieejJA",
        "outputId": "daa8a5aa-71bf-47ec-ecf1-929da790a626"
      },
      "outputs": [
        {
          "output_type": "stream",
          "name": "stdout",
          "text": [
            "train (87554, 187, 1)\n",
            "train (87554, 5)\n",
            "one:  (5000, 5)\n",
            "one:  (5000, 187, 1)\n",
            "three:  (5000, 5)\n",
            "three:  (5000, 187, 1)\n",
            "five:  (5000, 5)\n",
            "five:  (5000, 187, 1)\n"
          ]
        }
      ],
      "source": [
        "print(\"train\", X_train.shape)\n",
        "print(\"train\", Y_train.shape)\n",
        "print(\"one: \", one_label.shape)\n",
        "print(\"one: \", one.shape)\n",
        "print(\"three: \", three_label.shape)\n",
        "print(\"three: \", three.shape)\n",
        "print(\"five: \", five_label.shape)\n",
        "print(\"five: \", five.shape)"
      ]
    },
    {
      "cell_type": "code",
      "execution_count": 8,
      "metadata": {
        "id": "B1oYepcXheV2"
      },
      "outputs": [],
      "source": [
        "two = np.array([])\n",
        "four = np.array([])\n",
        "\n",
        "\n",
        "\n",
        "\n",
        "for i in range(len(Y_train)):\n",
        "    if np.array_equal(Y_train[i], [0.0, 1.0, 0.0, 0.0, 0.0]):\n",
        "          two = np.concatenate([two, [X_train[i]]]) if two.shape[0] > 0 else np.array([X_train[i]])\n",
        "\n",
        "\n",
        "    elif np.array_equal(Y_train[i], [0.0, 0.0, 0.0, 1.0, 0.0]):\n",
        "        four = np.concatenate([four, [X_train[i]]]) if four.shape[0] > 0 else np.array([X_train[i]])\n"
      ]
    },
    {
      "cell_type": "code",
      "execution_count": null,
      "metadata": {
        "colab": {
          "base_uri": "https://localhost:8080/"
        },
        "id": "69PSgejpigxN",
        "outputId": "b4ac8e2e-6486-41d3-d6a5-53b1793024f1"
      },
      "outputs": [
        {
          "output_type": "stream",
          "name": "stdout",
          "text": [
            "two:  (2223, 187, 1)\n",
            "four:  (641, 187, 1)\n"
          ]
        }
      ],
      "source": [
        "print(\"two: \", two.shape)\n",
        "print(\"four: \", four.shape)"
      ]
    },
    {
      "cell_type": "code",
      "source": [],
      "metadata": {
        "id": "ESwOvxg_4x8-"
      },
      "execution_count": null,
      "outputs": []
    },
    {
      "cell_type": "code",
      "execution_count": 9,
      "metadata": {
        "id": "X8t_r-xCjnsG"
      },
      "outputs": [],
      "source": [
        "def moving_average_filter(signal, window_size=5):\n",
        "    filtered=[]\n",
        "    for data in signal:\n",
        "      filtered_ecg = np.convolve(data.flatten(), np.ones(window_size) / window_size, mode='same')\n",
        "      filtered.append(filtered_ecg)\n",
        "    return np.array(filtered)\n"
      ]
    },
    {
      "cell_type": "code",
      "execution_count": 10,
      "metadata": {
        "id": "XJ1F0jVKi7yb"
      },
      "outputs": [],
      "source": [
        "one = np.squeeze(one, axis=-1)\n",
        "two = np.squeeze(two, axis=-1)\n",
        "three=np.squeeze(three, axis=-1)\n",
        "four = np.squeeze(four, axis=-1)\n",
        "five = np.squeeze(five, axis=-1)\n",
        "\n",
        "\n",
        "one= moving_average_filter(one)\n",
        "two= moving_average_filter(two)\n",
        "three= moving_average_filter(three)\n",
        "four= moving_average_filter(four)\n",
        "five= moving_average_filter(five)\n",
        "\n",
        "merged_two = np.concatenate((two, synthetic_twos), axis=0)\n",
        "merged_four = np.concatenate((four, synthetic_fours), axis=0)\n"
      ]
    },
    {
      "cell_type": "code",
      "execution_count": 11,
      "metadata": {
        "id": "_kYbYrxPn_Av"
      },
      "outputs": [],
      "source": [
        "X_train_f = np.concatenate((one, merged_two, three, merged_four, five))"
      ]
    },
    {
      "cell_type": "code",
      "execution_count": 12,
      "metadata": {
        "colab": {
          "base_uri": "https://localhost:8080/"
        },
        "id": "QdXX8t3Fpz0C",
        "outputId": "70f1b11f-0dd8-4569-e1a2-12e256398384"
      },
      "outputs": [
        {
          "output_type": "stream",
          "name": "stdout",
          "text": [
            "(5000, 5)\n",
            "(5000, 5)\n"
          ]
        }
      ],
      "source": [
        "two_label = np.array([0.0, 1.0, 0.0, 0.0, 0.0])\n",
        "\n",
        "repetitions=5000\n",
        "\n",
        "result_two_label = np.tile(two_label, (repetitions, 1))\n",
        "\n",
        "four_label = np.array([0.0, 0.0, 0.0, 1.0, 0.0])\n",
        "\n",
        "\n",
        "result_four_label = np.tile(four_label, (repetitions, 1))\n",
        "\n",
        "print(result_four_label.shape)\n",
        "print(result_two_label.shape)"
      ]
    },
    {
      "cell_type": "code",
      "execution_count": 13,
      "metadata": {
        "id": "cTSzWUrfq3r_"
      },
      "outputs": [],
      "source": [
        "Y_train = np.concatenate((one_label, result_two_label, three_label, result_four_label, five_label))"
      ]
    },
    {
      "cell_type": "code",
      "execution_count": 20,
      "metadata": {
        "id": "xkV_ypnFb4i3"
      },
      "outputs": [],
      "source": [
        "X_test_f=moving_average_filter(X_test)"
      ]
    },
    {
      "cell_type": "code",
      "source": [
        "print(X_test_f.shape)\n",
        "print(X_train_f.shape)\n",
        "print(Y_test.shape)\n",
        "print(Y_train.shape)"
      ],
      "metadata": {
        "colab": {
          "base_uri": "https://localhost:8080/"
        },
        "id": "3iuT_2h31kff",
        "outputId": "f3eb245b-718f-4dca-a0ac-5ae1b8cf6bca"
      },
      "execution_count": null,
      "outputs": [
        {
          "output_type": "stream",
          "name": "stdout",
          "text": [
            "(21892, 187)\n",
            "(25000, 187)\n",
            "(21892, 5)\n",
            "(25000, 5)\n"
          ]
        }
      ]
    },
    {
      "cell_type": "code",
      "source": [
        "def build_model(hp):\n",
        "    model = models.Sequential()\n",
        "\n",
        "    # Convolutional layers\n",
        "    model.add(layers.Conv1D(hp.Int('filter_1', min_value=16, max_value=128, step=16),\n",
        "                            kernel_size=hp.Int('kernelsize_1', min_value=3, max_value=10, step=1),\n",
        "                            activation='relu', input_shape=(187, 1)))\n",
        "\n",
        "    for i in range(hp.Int('n_conv_layers', 1, 3)):\n",
        "        units = hp.Int(f\"conv_{i}_units\", min_value=32, max_value=512, step=32)\n",
        "        kernel_size = hp.Int(f\"conv_{i}_kernelsize\", min_value=3, max_value=5, step=1)\n",
        "        model.add(layers.Conv1D(units, kernel_size=kernel_size, activation='relu'))\n",
        "        model.add(layers.MaxPooling1D(pool_size=2))\n",
        "\n",
        "    model.add(layers.Flatten())\n",
        "\n",
        "    # Dense layers\n",
        "    for i in range(hp.Int('n_dense_layers', 1, 3)):\n",
        "        units = hp.Int(f\"dense_{i}_units\", min_value=64, max_value=1024, step=64)\n",
        "        model.add(layers.Dense(units, activation='relu'))\n",
        "\n",
        "    model.add(layers.Dense(5, activation='softmax'))\n",
        "\n",
        "    model.compile(optimizer=tf.keras.optimizers.Adam(learning_rate=hp.Choice('learning_rate', values=[1e-2, 1e-3, 1e-4])),\n",
        "                  loss=\"categorical_crossentropy\",\n",
        "                  metrics=['accuracy'])\n",
        "\n",
        "    return model"
      ],
      "metadata": {
        "id": "reMjfDhW_u3W"
      },
      "execution_count": 47,
      "outputs": []
    },
    {
      "cell_type": "code",
      "source": [
        "tuner=kt.Hyperband(build_model,\n",
        "                   objective='val_accuracy',\n",
        "                   max_epochs=30,\n",
        "                   factor=3,\n",
        "                   directory='ecg_modelv5',\n",
        "                   project_name='x')\n"
      ],
      "metadata": {
        "id": "zXWtcu7g_whX"
      },
      "execution_count": 51,
      "outputs": []
    },
    {
      "cell_type": "code",
      "execution_count": 52,
      "metadata": {
        "id": "shirSeiVecOl"
      },
      "outputs": [],
      "source": [
        "stop_early=tf.keras.callbacks.EarlyStopping(monitor='val_loss',patience=3)\n"
      ]
    },
    {
      "cell_type": "code",
      "source": [
        "tuner.search(X_train_f, Y_train, epochs=30, validation_data=(X_test_f,Y_test), callbacks=[stop_early])"
      ],
      "metadata": {
        "colab": {
          "base_uri": "https://localhost:8080/"
        },
        "id": "JmIVNfp6nqH3",
        "outputId": "bc12c5fe-f53e-455b-d5d0-871a61acce6b"
      },
      "execution_count": 53,
      "outputs": [
        {
          "output_type": "stream",
          "name": "stdout",
          "text": [
            "Trial 90 Complete [00h 01m 43s]\n",
            "val_accuracy: 0.9605792164802551\n",
            "\n",
            "Best val_accuracy So Far: 0.9674767255783081\n",
            "Total elapsed time: 01h 16m 11s\n"
          ]
        }
      ]
    },
    {
      "cell_type": "code",
      "source": [
        "best_hps=tuner.get_best_hyperparameters(num_trials=1)[0]"
      ],
      "metadata": {
        "id": "jIphbuK5olrx"
      },
      "execution_count": 71,
      "outputs": []
    },
    {
      "cell_type": "code",
      "source": [
        "model=tuner.hypermodel.build(best_hps)\n",
        "history=model.fit(X_train_f,Y_train,epochs=30,callbacks=[stop_early])"
      ],
      "metadata": {
        "colab": {
          "base_uri": "https://localhost:8080/"
        },
        "id": "MWNBOqXm9Jdk",
        "outputId": "cb1fc3e5-58b6-4942-edd7-5be9b1913fab"
      },
      "execution_count": 72,
      "outputs": [
        {
          "output_type": "stream",
          "name": "stdout",
          "text": [
            "Epoch 1/30\n",
            "782/782 [==============================] - ETA: 0s - loss: 0.3312 - accuracy: 0.8840"
          ]
        },
        {
          "output_type": "stream",
          "name": "stderr",
          "text": [
            "WARNING:tensorflow:Early stopping conditioned on metric `val_loss` which is not available. Available metrics are: loss,accuracy\n"
          ]
        },
        {
          "output_type": "stream",
          "name": "stdout",
          "text": [
            "\b\b\b\b\b\b\b\b\b\b\b\b\b\b\b\b\b\b\b\b\b\b\b\b\b\b\b\b\b\b\b\b\b\b\b\b\b\b\b\b\b\b\b\b\b\b\b\b\b\b\b\b\b\b\b\b\b\b\b\b\b\b\b\b\b\b\b\b\b\b\b\b\b\b\b\b\b\b\b\b\b\b\b\b\r782/782 [==============================] - 18s 19ms/step - loss: 0.3312 - accuracy: 0.8840\n",
            "Epoch 2/30\n",
            "780/782 [============================>.] - ETA: 0s - loss: 0.1684 - accuracy: 0.9426"
          ]
        },
        {
          "output_type": "stream",
          "name": "stderr",
          "text": [
            "WARNING:tensorflow:Early stopping conditioned on metric `val_loss` which is not available. Available metrics are: loss,accuracy\n"
          ]
        },
        {
          "output_type": "stream",
          "name": "stdout",
          "text": [
            "\b\b\b\b\b\b\b\b\b\b\b\b\b\b\b\b\b\b\b\b\b\b\b\b\b\b\b\b\b\b\b\b\b\b\b\b\b\b\b\b\b\b\b\b\b\b\b\b\b\b\b\b\b\b\b\b\b\b\b\b\b\b\b\b\b\b\b\b\b\b\b\b\b\b\b\b\b\b\b\b\b\b\b\b\r782/782 [==============================] - 10s 12ms/step - loss: 0.1682 - accuracy: 0.9427\n",
            "Epoch 3/30\n",
            "778/782 [============================>.] - ETA: 0s - loss: 0.1184 - accuracy: 0.9598"
          ]
        },
        {
          "output_type": "stream",
          "name": "stderr",
          "text": [
            "WARNING:tensorflow:Early stopping conditioned on metric `val_loss` which is not available. Available metrics are: loss,accuracy\n"
          ]
        },
        {
          "output_type": "stream",
          "name": "stdout",
          "text": [
            "\b\b\b\b\b\b\b\b\b\b\b\b\b\b\b\b\b\b\b\b\b\b\b\b\b\b\b\b\b\b\b\b\b\b\b\b\b\b\b\b\b\b\b\b\b\b\b\b\b\b\b\b\b\b\b\b\b\b\b\b\b\b\b\b\b\b\b\b\b\b\b\b\b\b\b\b\b\b\b\b\b\b\b\b\r782/782 [==============================] - 10s 12ms/step - loss: 0.1180 - accuracy: 0.9599\n",
            "Epoch 4/30\n",
            "778/782 [============================>.] - ETA: 0s - loss: 0.0927 - accuracy: 0.9675"
          ]
        },
        {
          "output_type": "stream",
          "name": "stderr",
          "text": [
            "WARNING:tensorflow:Early stopping conditioned on metric `val_loss` which is not available. Available metrics are: loss,accuracy\n"
          ]
        },
        {
          "output_type": "stream",
          "name": "stdout",
          "text": [
            "\b\b\b\b\b\b\b\b\b\b\b\b\b\b\b\b\b\b\b\b\b\b\b\b\b\b\b\b\b\b\b\b\b\b\b\b\b\b\b\b\b\b\b\b\b\b\b\b\b\b\b\b\b\b\b\b\b\b\b\b\b\b\b\b\b\b\b\b\b\b\b\b\b\b\b\b\b\b\b\b\b\b\b\b\r782/782 [==============================] - 10s 13ms/step - loss: 0.0928 - accuracy: 0.9674\n",
            "Epoch 5/30\n",
            "778/782 [============================>.] - ETA: 0s - loss: 0.0719 - accuracy: 0.9743"
          ]
        },
        {
          "output_type": "stream",
          "name": "stderr",
          "text": [
            "WARNING:tensorflow:Early stopping conditioned on metric `val_loss` which is not available. Available metrics are: loss,accuracy\n"
          ]
        },
        {
          "output_type": "stream",
          "name": "stdout",
          "text": [
            "\b\b\b\b\b\b\b\b\b\b\b\b\b\b\b\b\b\b\b\b\b\b\b\b\b\b\b\b\b\b\b\b\b\b\b\b\b\b\b\b\b\b\b\b\b\b\b\b\b\b\b\b\b\b\b\b\b\b\b\b\b\b\b\b\b\b\b\b\b\b\b\b\b\b\b\b\b\b\b\b\b\b\b\b\r782/782 [==============================] - 9s 12ms/step - loss: 0.0718 - accuracy: 0.9742\n",
            "Epoch 6/30\n",
            "781/782 [============================>.] - ETA: 0s - loss: 0.0592 - accuracy: 0.9791"
          ]
        },
        {
          "output_type": "stream",
          "name": "stderr",
          "text": [
            "WARNING:tensorflow:Early stopping conditioned on metric `val_loss` which is not available. Available metrics are: loss,accuracy\n"
          ]
        },
        {
          "output_type": "stream",
          "name": "stdout",
          "text": [
            "\b\b\b\b\b\b\b\b\b\b\b\b\b\b\b\b\b\b\b\b\b\b\b\b\b\b\b\b\b\b\b\b\b\b\b\b\b\b\b\b\b\b\b\b\b\b\b\b\b\b\b\b\b\b\b\b\b\b\b\b\b\b\b\b\b\b\b\b\b\b\b\b\b\b\b\b\b\b\b\b\b\b\b\b\r782/782 [==============================] - 10s 13ms/step - loss: 0.0592 - accuracy: 0.9790\n",
            "Epoch 7/30\n",
            "780/782 [============================>.] - ETA: 0s - loss: 0.0475 - accuracy: 0.9824"
          ]
        },
        {
          "output_type": "stream",
          "name": "stderr",
          "text": [
            "WARNING:tensorflow:Early stopping conditioned on metric `val_loss` which is not available. Available metrics are: loss,accuracy\n"
          ]
        },
        {
          "output_type": "stream",
          "name": "stdout",
          "text": [
            "\b\b\b\b\b\b\b\b\b\b\b\b\b\b\b\b\b\b\b\b\b\b\b\b\b\b\b\b\b\b\b\b\b\b\b\b\b\b\b\b\b\b\b\b\b\b\b\b\b\b\b\b\b\b\b\b\b\b\b\b\b\b\b\b\b\b\b\b\b\b\b\b\b\b\b\b\b\b\b\b\b\b\b\b\r782/782 [==============================] - 10s 12ms/step - loss: 0.0475 - accuracy: 0.9824\n",
            "Epoch 8/30\n",
            "780/782 [============================>.] - ETA: 0s - loss: 0.0373 - accuracy: 0.9867"
          ]
        },
        {
          "output_type": "stream",
          "name": "stderr",
          "text": [
            "WARNING:tensorflow:Early stopping conditioned on metric `val_loss` which is not available. Available metrics are: loss,accuracy\n"
          ]
        },
        {
          "output_type": "stream",
          "name": "stdout",
          "text": [
            "\b\b\b\b\b\b\b\b\b\b\b\b\b\b\b\b\b\b\b\b\b\b\b\b\b\b\b\b\b\b\b\b\b\b\b\b\b\b\b\b\b\b\b\b\b\b\b\b\b\b\b\b\b\b\b\b\b\b\b\b\b\b\b\b\b\b\b\b\b\b\b\b\b\b\b\b\b\b\b\b\b\b\b\b\r782/782 [==============================] - 10s 12ms/step - loss: 0.0374 - accuracy: 0.9866\n",
            "Epoch 9/30\n",
            "782/782 [==============================] - ETA: 0s - loss: 0.0387 - accuracy: 0.9864"
          ]
        },
        {
          "output_type": "stream",
          "name": "stderr",
          "text": [
            "WARNING:tensorflow:Early stopping conditioned on metric `val_loss` which is not available. Available metrics are: loss,accuracy\n"
          ]
        },
        {
          "output_type": "stream",
          "name": "stdout",
          "text": [
            "\b\b\b\b\b\b\b\b\b\b\b\b\b\b\b\b\b\b\b\b\b\b\b\b\b\b\b\b\b\b\b\b\b\b\b\b\b\b\b\b\b\b\b\b\b\b\b\b\b\b\b\b\b\b\b\b\b\b\b\b\b\b\b\b\b\b\b\b\b\b\b\b\b\b\b\b\b\b\b\b\b\b\b\b\r782/782 [==============================] - 10s 13ms/step - loss: 0.0387 - accuracy: 0.9864\n",
            "Epoch 10/30\n",
            "779/782 [============================>.] - ETA: 0s - loss: 0.0290 - accuracy: 0.9898"
          ]
        },
        {
          "output_type": "stream",
          "name": "stderr",
          "text": [
            "WARNING:tensorflow:Early stopping conditioned on metric `val_loss` which is not available. Available metrics are: loss,accuracy\n"
          ]
        },
        {
          "output_type": "stream",
          "name": "stdout",
          "text": [
            "\b\b\b\b\b\b\b\b\b\b\b\b\b\b\b\b\b\b\b\b\b\b\b\b\b\b\b\b\b\b\b\b\b\b\b\b\b\b\b\b\b\b\b\b\b\b\b\b\b\b\b\b\b\b\b\b\b\b\b\b\b\b\b\b\b\b\b\b\b\b\b\b\b\b\b\b\b\b\b\b\b\b\b\b\r782/782 [==============================] - 9s 12ms/step - loss: 0.0290 - accuracy: 0.9898\n",
            "Epoch 11/30\n",
            "782/782 [==============================] - ETA: 0s - loss: 0.0323 - accuracy: 0.9884"
          ]
        },
        {
          "output_type": "stream",
          "name": "stderr",
          "text": [
            "WARNING:tensorflow:Early stopping conditioned on metric `val_loss` which is not available. Available metrics are: loss,accuracy\n"
          ]
        },
        {
          "output_type": "stream",
          "name": "stdout",
          "text": [
            "\b\b\b\b\b\b\b\b\b\b\b\b\b\b\b\b\b\b\b\b\b\b\b\b\b\b\b\b\b\b\b\b\b\b\b\b\b\b\b\b\b\b\b\b\b\b\b\b\b\b\b\b\b\b\b\b\b\b\b\b\b\b\b\b\b\b\b\b\b\b\b\b\b\b\b\b\b\b\b\b\b\b\b\b\r782/782 [==============================] - 10s 13ms/step - loss: 0.0323 - accuracy: 0.9884\n",
            "Epoch 12/30\n",
            "778/782 [============================>.] - ETA: 0s - loss: 0.0242 - accuracy: 0.9919"
          ]
        },
        {
          "output_type": "stream",
          "name": "stderr",
          "text": [
            "WARNING:tensorflow:Early stopping conditioned on metric `val_loss` which is not available. Available metrics are: loss,accuracy\n"
          ]
        },
        {
          "output_type": "stream",
          "name": "stdout",
          "text": [
            "\b\b\b\b\b\b\b\b\b\b\b\b\b\b\b\b\b\b\b\b\b\b\b\b\b\b\b\b\b\b\b\b\b\b\b\b\b\b\b\b\b\b\b\b\b\b\b\b\b\b\b\b\b\b\b\b\b\b\b\b\b\b\b\b\b\b\b\b\b\b\b\b\b\b\b\b\b\b\b\b\b\b\b\b\r782/782 [==============================] - 10s 12ms/step - loss: 0.0241 - accuracy: 0.9919\n",
            "Epoch 13/30\n",
            "778/782 [============================>.] - ETA: 0s - loss: 0.0253 - accuracy: 0.9916"
          ]
        },
        {
          "output_type": "stream",
          "name": "stderr",
          "text": [
            "WARNING:tensorflow:Early stopping conditioned on metric `val_loss` which is not available. Available metrics are: loss,accuracy\n"
          ]
        },
        {
          "output_type": "stream",
          "name": "stdout",
          "text": [
            "\b\b\b\b\b\b\b\b\b\b\b\b\b\b\b\b\b\b\b\b\b\b\b\b\b\b\b\b\b\b\b\b\b\b\b\b\b\b\b\b\b\b\b\b\b\b\b\b\b\b\b\b\b\b\b\b\b\b\b\b\b\b\b\b\b\b\b\b\b\b\b\b\b\b\b\b\b\b\b\b\b\b\b\b\r782/782 [==============================] - 10s 12ms/step - loss: 0.0252 - accuracy: 0.9917\n",
            "Epoch 14/30\n",
            "780/782 [============================>.] - ETA: 0s - loss: 0.0230 - accuracy: 0.9919"
          ]
        },
        {
          "output_type": "stream",
          "name": "stderr",
          "text": [
            "WARNING:tensorflow:Early stopping conditioned on metric `val_loss` which is not available. Available metrics are: loss,accuracy\n"
          ]
        },
        {
          "output_type": "stream",
          "name": "stdout",
          "text": [
            "\b\b\b\b\b\b\b\b\b\b\b\b\b\b\b\b\b\b\b\b\b\b\b\b\b\b\b\b\b\b\b\b\b\b\b\b\b\b\b\b\b\b\b\b\b\b\b\b\b\b\b\b\b\b\b\b\b\b\b\b\b\b\b\b\b\b\b\b\b\b\b\b\b\b\b\b\b\b\b\b\b\b\b\b\r782/782 [==============================] - 10s 13ms/step - loss: 0.0229 - accuracy: 0.9919\n",
            "Epoch 15/30\n",
            "782/782 [==============================] - ETA: 0s - loss: 0.0190 - accuracy: 0.9934"
          ]
        },
        {
          "output_type": "stream",
          "name": "stderr",
          "text": [
            "WARNING:tensorflow:Early stopping conditioned on metric `val_loss` which is not available. Available metrics are: loss,accuracy\n"
          ]
        },
        {
          "output_type": "stream",
          "name": "stdout",
          "text": [
            "\b\b\b\b\b\b\b\b\b\b\b\b\b\b\b\b\b\b\b\b\b\b\b\b\b\b\b\b\b\b\b\b\b\b\b\b\b\b\b\b\b\b\b\b\b\b\b\b\b\b\b\b\b\b\b\b\b\b\b\b\b\b\b\b\b\b\b\b\b\b\b\b\b\b\b\b\b\b\b\b\b\b\b\b\r782/782 [==============================] - 9s 12ms/step - loss: 0.0190 - accuracy: 0.9934\n",
            "Epoch 16/30\n",
            "778/782 [============================>.] - ETA: 0s - loss: 0.0254 - accuracy: 0.9909"
          ]
        },
        {
          "output_type": "stream",
          "name": "stderr",
          "text": [
            "WARNING:tensorflow:Early stopping conditioned on metric `val_loss` which is not available. Available metrics are: loss,accuracy\n"
          ]
        },
        {
          "output_type": "stream",
          "name": "stdout",
          "text": [
            "\b\b\b\b\b\b\b\b\b\b\b\b\b\b\b\b\b\b\b\b\b\b\b\b\b\b\b\b\b\b\b\b\b\b\b\b\b\b\b\b\b\b\b\b\b\b\b\b\b\b\b\b\b\b\b\b\b\b\b\b\b\b\b\b\b\b\b\b\b\b\b\b\b\b\b\b\b\b\b\b\b\b\b\b\r782/782 [==============================] - 10s 12ms/step - loss: 0.0253 - accuracy: 0.9910\n",
            "Epoch 17/30\n",
            "779/782 [============================>.] - ETA: 0s - loss: 0.0176 - accuracy: 0.9937"
          ]
        },
        {
          "output_type": "stream",
          "name": "stderr",
          "text": [
            "WARNING:tensorflow:Early stopping conditioned on metric `val_loss` which is not available. Available metrics are: loss,accuracy\n"
          ]
        },
        {
          "output_type": "stream",
          "name": "stdout",
          "text": [
            "\b\b\b\b\b\b\b\b\b\b\b\b\b\b\b\b\b\b\b\b\b\b\b\b\b\b\b\b\b\b\b\b\b\b\b\b\b\b\b\b\b\b\b\b\b\b\b\b\b\b\b\b\b\b\b\b\b\b\b\b\b\b\b\b\b\b\b\b\b\b\b\b\b\b\b\b\b\b\b\b\b\b\b\b\r782/782 [==============================] - 10s 13ms/step - loss: 0.0176 - accuracy: 0.9936\n",
            "Epoch 18/30\n",
            "779/782 [============================>.] - ETA: 0s - loss: 0.0179 - accuracy: 0.9933"
          ]
        },
        {
          "output_type": "stream",
          "name": "stderr",
          "text": [
            "WARNING:tensorflow:Early stopping conditioned on metric `val_loss` which is not available. Available metrics are: loss,accuracy\n"
          ]
        },
        {
          "output_type": "stream",
          "name": "stdout",
          "text": [
            "\b\b\b\b\b\b\b\b\b\b\b\b\b\b\b\b\b\b\b\b\b\b\b\b\b\b\b\b\b\b\b\b\b\b\b\b\b\b\b\b\b\b\b\b\b\b\b\b\b\b\b\b\b\b\b\b\b\b\b\b\b\b\b\b\b\b\b\b\b\b\b\b\b\b\b\b\b\b\b\b\b\b\b\b\r782/782 [==============================] - 10s 12ms/step - loss: 0.0181 - accuracy: 0.9933\n",
            "Epoch 19/30\n",
            "782/782 [==============================] - ETA: 0s - loss: 0.0178 - accuracy: 0.9940"
          ]
        },
        {
          "output_type": "stream",
          "name": "stderr",
          "text": [
            "WARNING:tensorflow:Early stopping conditioned on metric `val_loss` which is not available. Available metrics are: loss,accuracy\n"
          ]
        },
        {
          "output_type": "stream",
          "name": "stdout",
          "text": [
            "\b\b\b\b\b\b\b\b\b\b\b\b\b\b\b\b\b\b\b\b\b\b\b\b\b\b\b\b\b\b\b\b\b\b\b\b\b\b\b\b\b\b\b\b\b\b\b\b\b\b\b\b\b\b\b\b\b\b\b\b\b\b\b\b\b\b\b\b\b\b\b\b\b\b\b\b\b\b\b\b\b\b\b\b\r782/782 [==============================] - 10s 13ms/step - loss: 0.0178 - accuracy: 0.9940\n",
            "Epoch 20/30\n",
            "782/782 [==============================] - ETA: 0s - loss: 0.0203 - accuracy: 0.9934"
          ]
        },
        {
          "output_type": "stream",
          "name": "stderr",
          "text": [
            "WARNING:tensorflow:Early stopping conditioned on metric `val_loss` which is not available. Available metrics are: loss,accuracy\n"
          ]
        },
        {
          "output_type": "stream",
          "name": "stdout",
          "text": [
            "\b\b\b\b\b\b\b\b\b\b\b\b\b\b\b\b\b\b\b\b\b\b\b\b\b\b\b\b\b\b\b\b\b\b\b\b\b\b\b\b\b\b\b\b\b\b\b\b\b\b\b\b\b\b\b\b\b\b\b\b\b\b\b\b\b\b\b\b\b\b\b\b\b\b\b\b\b\b\b\b\b\b\b\b\r782/782 [==============================] - 10s 12ms/step - loss: 0.0203 - accuracy: 0.9934\n",
            "Epoch 21/30\n",
            "782/782 [==============================] - ETA: 0s - loss: 0.0137 - accuracy: 0.9952"
          ]
        },
        {
          "output_type": "stream",
          "name": "stderr",
          "text": [
            "WARNING:tensorflow:Early stopping conditioned on metric `val_loss` which is not available. Available metrics are: loss,accuracy\n"
          ]
        },
        {
          "output_type": "stream",
          "name": "stdout",
          "text": [
            "\b\b\b\b\b\b\b\b\b\b\b\b\b\b\b\b\b\b\b\b\b\b\b\b\b\b\b\b\b\b\b\b\b\b\b\b\b\b\b\b\b\b\b\b\b\b\b\b\b\b\b\b\b\b\b\b\b\b\b\b\b\b\b\b\b\b\b\b\b\b\b\b\b\b\b\b\b\b\b\b\b\b\b\b\r782/782 [==============================] - 10s 12ms/step - loss: 0.0137 - accuracy: 0.9952\n",
            "Epoch 22/30\n",
            "780/782 [============================>.] - ETA: 0s - loss: 0.0098 - accuracy: 0.9964"
          ]
        },
        {
          "output_type": "stream",
          "name": "stderr",
          "text": [
            "WARNING:tensorflow:Early stopping conditioned on metric `val_loss` which is not available. Available metrics are: loss,accuracy\n"
          ]
        },
        {
          "output_type": "stream",
          "name": "stdout",
          "text": [
            "\b\b\b\b\b\b\b\b\b\b\b\b\b\b\b\b\b\b\b\b\b\b\b\b\b\b\b\b\b\b\b\b\b\b\b\b\b\b\b\b\b\b\b\b\b\b\b\b\b\b\b\b\b\b\b\b\b\b\b\b\b\b\b\b\b\b\b\b\b\b\b\b\b\b\b\b\b\b\b\b\b\b\b\b\r782/782 [==============================] - 10s 12ms/step - loss: 0.0098 - accuracy: 0.9964\n",
            "Epoch 23/30\n",
            "782/782 [==============================] - ETA: 0s - loss: 0.0148 - accuracy: 0.9948"
          ]
        },
        {
          "output_type": "stream",
          "name": "stderr",
          "text": [
            "WARNING:tensorflow:Early stopping conditioned on metric `val_loss` which is not available. Available metrics are: loss,accuracy\n"
          ]
        },
        {
          "output_type": "stream",
          "name": "stdout",
          "text": [
            "\b\b\b\b\b\b\b\b\b\b\b\b\b\b\b\b\b\b\b\b\b\b\b\b\b\b\b\b\b\b\b\b\b\b\b\b\b\b\b\b\b\b\b\b\b\b\b\b\b\b\b\b\b\b\b\b\b\b\b\b\b\b\b\b\b\b\b\b\b\b\b\b\b\b\b\b\b\b\b\b\b\b\b\b\r782/782 [==============================] - 10s 12ms/step - loss: 0.0148 - accuracy: 0.9948\n",
            "Epoch 24/30\n",
            "778/782 [============================>.] - ETA: 0s - loss: 0.0187 - accuracy: 0.9937"
          ]
        },
        {
          "output_type": "stream",
          "name": "stderr",
          "text": [
            "WARNING:tensorflow:Early stopping conditioned on metric `val_loss` which is not available. Available metrics are: loss,accuracy\n"
          ]
        },
        {
          "output_type": "stream",
          "name": "stdout",
          "text": [
            "\b\b\b\b\b\b\b\b\b\b\b\b\b\b\b\b\b\b\b\b\b\b\b\b\b\b\b\b\b\b\b\b\b\b\b\b\b\b\b\b\b\b\b\b\b\b\b\b\b\b\b\b\b\b\b\b\b\b\b\b\b\b\b\b\b\b\b\b\b\b\b\b\b\b\b\b\b\b\b\b\b\b\b\b\r782/782 [==============================] - 10s 13ms/step - loss: 0.0190 - accuracy: 0.9937\n",
            "Epoch 25/30\n",
            "778/782 [============================>.] - ETA: 0s - loss: 0.0160 - accuracy: 0.9949"
          ]
        },
        {
          "output_type": "stream",
          "name": "stderr",
          "text": [
            "WARNING:tensorflow:Early stopping conditioned on metric `val_loss` which is not available. Available metrics are: loss,accuracy\n"
          ]
        },
        {
          "output_type": "stream",
          "name": "stdout",
          "text": [
            "\b\b\b\b\b\b\b\b\b\b\b\b\b\b\b\b\b\b\b\b\b\b\b\b\b\b\b\b\b\b\b\b\b\b\b\b\b\b\b\b\b\b\b\b\b\b\b\b\b\b\b\b\b\b\b\b\b\b\b\b\b\b\b\b\b\b\b\b\b\b\b\b\b\b\b\b\b\b\b\b\b\b\b\b\r782/782 [==============================] - 10s 12ms/step - loss: 0.0160 - accuracy: 0.9949\n",
            "Epoch 26/30\n",
            "778/782 [============================>.] - ETA: 0s - loss: 0.0107 - accuracy: 0.9960"
          ]
        },
        {
          "output_type": "stream",
          "name": "stderr",
          "text": [
            "WARNING:tensorflow:Early stopping conditioned on metric `val_loss` which is not available. Available metrics are: loss,accuracy\n"
          ]
        },
        {
          "output_type": "stream",
          "name": "stdout",
          "text": [
            "\b\b\b\b\b\b\b\b\b\b\b\b\b\b\b\b\b\b\b\b\b\b\b\b\b\b\b\b\b\b\b\b\b\b\b\b\b\b\b\b\b\b\b\b\b\b\b\b\b\b\b\b\b\b\b\b\b\b\b\b\b\b\b\b\b\b\b\b\b\b\b\b\b\b\b\b\b\b\b\b\b\b\b\b\r782/782 [==============================] - 10s 13ms/step - loss: 0.0108 - accuracy: 0.9960\n",
            "Epoch 27/30\n",
            "778/782 [============================>.] - ETA: 0s - loss: 0.0114 - accuracy: 0.9961"
          ]
        },
        {
          "output_type": "stream",
          "name": "stderr",
          "text": [
            "WARNING:tensorflow:Early stopping conditioned on metric `val_loss` which is not available. Available metrics are: loss,accuracy\n"
          ]
        },
        {
          "output_type": "stream",
          "name": "stdout",
          "text": [
            "\b\b\b\b\b\b\b\b\b\b\b\b\b\b\b\b\b\b\b\b\b\b\b\b\b\b\b\b\b\b\b\b\b\b\b\b\b\b\b\b\b\b\b\b\b\b\b\b\b\b\b\b\b\b\b\b\b\b\b\b\b\b\b\b\b\b\b\b\b\b\b\b\b\b\b\b\b\b\b\b\b\b\b\b\r782/782 [==============================] - 10s 13ms/step - loss: 0.0114 - accuracy: 0.9962\n",
            "Epoch 28/30\n",
            "778/782 [============================>.] - ETA: 0s - loss: 0.0129 - accuracy: 0.9959"
          ]
        },
        {
          "output_type": "stream",
          "name": "stderr",
          "text": [
            "WARNING:tensorflow:Early stopping conditioned on metric `val_loss` which is not available. Available metrics are: loss,accuracy\n"
          ]
        },
        {
          "output_type": "stream",
          "name": "stdout",
          "text": [
            "\b\b\b\b\b\b\b\b\b\b\b\b\b\b\b\b\b\b\b\b\b\b\b\b\b\b\b\b\b\b\b\b\b\b\b\b\b\b\b\b\b\b\b\b\b\b\b\b\b\b\b\b\b\b\b\b\b\b\b\b\b\b\b\b\b\b\b\b\b\b\b\b\b\b\b\b\b\b\b\b\b\b\b\b\r782/782 [==============================] - 9s 12ms/step - loss: 0.0129 - accuracy: 0.9959\n",
            "Epoch 29/30\n",
            "781/782 [============================>.] - ETA: 0s - loss: 0.0140 - accuracy: 0.9953"
          ]
        },
        {
          "output_type": "stream",
          "name": "stderr",
          "text": [
            "WARNING:tensorflow:Early stopping conditioned on metric `val_loss` which is not available. Available metrics are: loss,accuracy\n"
          ]
        },
        {
          "output_type": "stream",
          "name": "stdout",
          "text": [
            "\b\b\b\b\b\b\b\b\b\b\b\b\b\b\b\b\b\b\b\b\b\b\b\b\b\b\b\b\b\b\b\b\b\b\b\b\b\b\b\b\b\b\b\b\b\b\b\b\b\b\b\b\b\b\b\b\b\b\b\b\b\b\b\b\b\b\b\b\b\b\b\b\b\b\b\b\b\b\b\b\b\b\b\b\r782/782 [==============================] - 10s 13ms/step - loss: 0.0140 - accuracy: 0.9953\n",
            "Epoch 30/30\n",
            "779/782 [============================>.] - ETA: 0s - loss: 0.0115 - accuracy: 0.9961"
          ]
        },
        {
          "output_type": "stream",
          "name": "stderr",
          "text": [
            "WARNING:tensorflow:Early stopping conditioned on metric `val_loss` which is not available. Available metrics are: loss,accuracy\n"
          ]
        },
        {
          "output_type": "stream",
          "name": "stdout",
          "text": [
            "\b\b\b\b\b\b\b\b\b\b\b\b\b\b\b\b\b\b\b\b\b\b\b\b\b\b\b\b\b\b\b\b\b\b\b\b\b\b\b\b\b\b\b\b\b\b\b\b\b\b\b\b\b\b\b\b\b\b\b\b\b\b\b\b\b\b\b\b\b\b\b\b\b\b\b\b\b\b\b\b\b\b\b\b\r782/782 [==============================] - 10s 12ms/step - loss: 0.0115 - accuracy: 0.9961\n"
          ]
        }
      ]
    },
    {
      "cell_type": "code",
      "source": [
        "model.summary()"
      ],
      "metadata": {
        "colab": {
          "base_uri": "https://localhost:8080/"
        },
        "id": "4F9wXsD2n36l",
        "outputId": "e085a322-1d6f-4736-c6a4-dcd302ec33d5"
      },
      "execution_count": 86,
      "outputs": [
        {
          "output_type": "stream",
          "name": "stdout",
          "text": [
            "Model: \"sequential_4\"\n",
            "_________________________________________________________________\n",
            " Layer (type)                Output Shape              Param #   \n",
            "=================================================================\n",
            " conv1d_12 (Conv1D)          (None, 184, 80)           400       \n",
            "                                                                 \n",
            " conv1d_13 (Conv1D)          (None, 182, 288)          69408     \n",
            "                                                                 \n",
            " max_pooling1d_8 (MaxPoolin  (None, 91, 288)           0         \n",
            " g1D)                                                            \n",
            "                                                                 \n",
            " conv1d_14 (Conv1D)          (None, 88, 384)           442752    \n",
            "                                                                 \n",
            " max_pooling1d_9 (MaxPoolin  (None, 44, 384)           0         \n",
            " g1D)                                                            \n",
            "                                                                 \n",
            " flatten_4 (Flatten)         (None, 16896)             0         \n",
            "                                                                 \n",
            " dense_11 (Dense)            (None, 1024)              17302528  \n",
            "                                                                 \n",
            " dense_12 (Dense)            (None, 320)               328000    \n",
            "                                                                 \n",
            " dense_13 (Dense)            (None, 5)                 1605      \n",
            "                                                                 \n",
            "=================================================================\n",
            "Total params: 18144693 (69.22 MB)\n",
            "Trainable params: 18144693 (69.22 MB)\n",
            "Non-trainable params: 0 (0.00 Byte)\n",
            "_________________________________________________________________\n"
          ]
        }
      ]
    },
    {
      "cell_type": "code",
      "execution_count": 75,
      "metadata": {
        "colab": {
          "base_uri": "https://localhost:8080/",
          "height": 486
        },
        "id": "MVzUKID7ial1",
        "outputId": "7c1c674a-391e-49cd-f42f-488732da40ca"
      },
      "outputs": [
        {
          "output_type": "execute_result",
          "data": {
            "text/plain": [
              "<matplotlib.legend.Legend at 0x7a9a707b79a0>"
            ]
          },
          "metadata": {},
          "execution_count": 75
        },
        {
          "output_type": "display_data",
          "data": {
            "text/plain": [
              "<Figure size 640x480 with 1 Axes>"
            ],
            "image/png": "[encoded data removed]"
          },
          "metadata": {}
        }
      ],
      "source": [
        "plt.plot(history.history['accuracy'], label='accuracy')\n",
        "plt.plot(history.history['loss'], label='loss')\n",
        "plt.xlabel('Epoch')\n",
        "plt.ylabel('Accuracy')\n",
        "plt.ylim([0.5, 1])\n",
        "plt.legend(loc='lower right')"
      ]
    },
    {
      "cell_type": "code",
      "execution_count": 83,
      "metadata": {
        "colab": {
          "base_uri": "https://localhost:8080/"
        },
        "id": "Q3-eegQ5ifmt",
        "outputId": "2566f637-31cf-4d0d-f515-b9ea136a467b"
      },
      "outputs": [
        {
          "output_type": "stream",
          "name": "stdout",
          "text": [
            "685/685 [==============================] - 6s 7ms/step - loss: 0.2940 - accuracy: 0.9561\n",
            "Loss=0.2939993143081665\n",
            "95.61%\n"
          ]
        }
      ],
      "source": [
        "loss, accuracy=model.evaluate(X_test_f,Y_test)\n",
        "print(f'Loss={loss}')\n",
        "print(f'{accuracy * 100:.2f}%')"
      ]
    },
    {
      "cell_type": "code",
      "source": [
        "model.save('/content/drive/MyDrive/ecg/finalmodel')"
      ],
      "metadata": {
        "id": "3YJf9Mm0gnDV"
      },
      "execution_count": 87,
      "outputs": []
    },
    {
      "cell_type": "code",
      "source": [
        "model=tf.keras.models.load_model('/content/drive/MyDrive/ecg/finalmodel')"
      ],
      "metadata": {
        "id": "G_ghiGQSgwJP"
      },
      "execution_count": 82,
      "outputs": []
    },
    {
      "cell_type": "code",
      "execution_count": 84,
      "metadata": {
        "colab": {
          "base_uri": "https://localhost:8080/",
          "height": 640
        },
        "id": "XVEvog43i39R",
        "outputId": "595ba711-2f60-46c3-eabf-422c628ac126"
      },
      "outputs": [
        {
          "output_type": "stream",
          "name": "stdout",
          "text": [
            "685/685 [==============================] - 2s 3ms/step\n",
            "Confusion Matrix:\n",
            "tf.Tensor(\n",
            "[[17333   413   192    66   114]\n",
            " [   57   479    16     2     2]\n",
            " [   24     9  1390    15    10]\n",
            " [   10     1    17   134     0]\n",
            " [    7     0     4     1  1596]], shape=(5, 5), dtype=int32)\n"
          ]
        },
        {
          "output_type": "display_data",
          "data": {
            "text/plain": [
              "<Figure size 500x500 with 1 Axes>"
            ],
            "image/png": "[encoded data removed]"
          },
          "metadata": {}
        }
      ],
      "source": [
        "y_pred = model.predict(X_test_f)\n",
        "y_pred_classes = tf.argmax(y_pred, axis=1)\n",
        "\n",
        "\n",
        "y_test = y_test.astype(int)\n",
        "\n",
        "\n",
        "confusion_matrix = tf.math.confusion_matrix(y_test, y_pred_classes, num_classes=5)\n",
        "print(\"Confusion Matrix:\")\n",
        "print(confusion_matrix)\n",
        "\n",
        "\n",
        "plt.figure(figsize=(5, 5))\n",
        "sns.set(font_scale=1.2)\n",
        "sns.heatmap(confusion_matrix, annot=True, fmt='d', cmap='Blues', cbar=False)\n",
        "\n",
        "plt.xticks(ticks=[0.5, 1.5, 2.5, 3.5, 4.5], labels=[1, 2, 3, 4, 5])\n",
        "plt.yticks(ticks=[0.5, 1.5, 2.5, 3.5, 4.5], labels=[1, 2, 3, 4, 5])\n",
        "\n",
        "plt.xlabel('Predicted Labels')\n",
        "plt.ylabel('True Labels')\n",
        "plt.title('Confusion Matrix')\n",
        "\n",
        "plt.show()"
      ]
    },
    {
      "cell_type": "code",
      "execution_count": 85,
      "metadata": {
        "colab": {
          "base_uri": "https://localhost:8080/"
        },
        "id": "TU7DD2fmvCPq",
        "outputId": "e9fc302e-6722-4a05-ec71-26faad3b3e43"
      },
      "outputs": [
        {
          "output_type": "stream",
          "name": "stdout",
          "text": [
            "              precision    recall  f1-score   support\n",
            "\n",
            "           0       0.99      0.96      0.98     18118\n",
            "           1       0.53      0.86      0.66       556\n",
            "           2       0.86      0.96      0.91      1448\n",
            "           3       0.61      0.83      0.71       162\n",
            "           4       0.93      0.99      0.96      1608\n",
            "\n",
            "    accuracy                           0.96     21892\n",
            "   macro avg       0.79      0.92      0.84     21892\n",
            "weighted avg       0.97      0.96      0.96     21892\n",
            "\n"
          ]
        }
      ],
      "source": [
        "classification_rep = classification_report( y_test , y_pred_classes)\n",
        "print(classification_rep)"
      ]
    }
  ],
  "metadata": {
    "accelerator": "GPU",
    "colab": {
      "provenance": [],
      "include_colab_link": true
    },
    "kernelspec": {
      "display_name": "Python 3",
      "name": "python3"
    },
    "language_info": {
      "name": "python"
    }
  },
  "nbformat": 4,
  "nbformat_minor": 0
}