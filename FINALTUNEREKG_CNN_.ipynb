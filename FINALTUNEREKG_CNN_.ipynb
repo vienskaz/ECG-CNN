{
  "cells": [
    {
      "cell_type": "markdown",
      "metadata": {
        "id": "view-in-github",
        "colab_type": "text"
      },
      "source": [
        "<a href=\"https://colab.research.google.com/github/vienskaz/ECG-CNN/blob/main/FINALTUNEREKG_CNN_.ipynb\" target=\"_parent\"><img src=\"https://colab.research.google.com/assets/colab-badge.svg\" alt=\"Open In Colab\"/></a>"
      ]
    },
    {
      "cell_type": "code",
      "execution_count": 1,
      "metadata": {
        "id": "yDNl6nu08FYH",
        "colab": {
          "base_uri": "https://localhost:8080/"
        },
        "outputId": "7142af4e-bd8d-4e51-d103-0e8f880b7dcc"
      },
      "outputs": [
        {
          "output_type": "stream",
          "name": "stdout",
          "text": [
            "\u001b[?25l     \u001b[90m━━━━━━━━━━━━━━━━━━━━━━━━━━━━━━━━━━━━━━━━\u001b[0m \u001b[32m0.0/128.9 kB\u001b[0m \u001b[31m?\u001b[0m eta \u001b[36m-:--:--\u001b[0m\r\u001b[2K     \u001b[91m━━━━━━━━━━━━━━━━━━━━━━━━━━━━━━━━━━━━━━\u001b[0m\u001b[90m╺\u001b[0m\u001b[90m━\u001b[0m \u001b[32m122.9/128.9 kB\u001b[0m \u001b[31m4.2 MB/s\u001b[0m eta \u001b[36m0:00:01\u001b[0m\r\u001b[2K     \u001b[90m━━━━━━━━━━━━━━━━━━━━━━━━━━━━━━━━━━━━━━━━\u001b[0m \u001b[32m128.9/128.9 kB\u001b[0m \u001b[31m3.4 MB/s\u001b[0m eta \u001b[36m0:00:00\u001b[0m\n",
            "\u001b[?25h"
          ]
        }
      ],
      "source": [
        "pip install -q -U keras-tuner"
      ]
    },
    {
      "cell_type": "code",
      "source": [
        "from google.colab import drive\n",
        "drive.mount('/content/drive')"
      ],
      "metadata": {
        "colab": {
          "base_uri": "https://localhost:8080/"
        },
        "id": "P_pCXjrHTj4r",
        "outputId": "e0524603-bab1-4460-fb06-294a6a8678e7"
      },
      "execution_count": 2,
      "outputs": [
        {
          "output_type": "stream",
          "name": "stdout",
          "text": [
            "Mounted at /content/drive\n"
          ]
        }
      ]
    },
    {
      "cell_type": "code",
      "source": [
        "from mpl_toolkits.mplot3d import Axes3D\n",
        "from sklearn.preprocessing import StandardScaler\n",
        "import matplotlib.pyplot as plt\n",
        "import numpy as np\n",
        "import os\n",
        "import pandas as pd\n",
        "from keras.utils import to_categorical\n",
        "from scipy.signal import butter,filtfilt\n",
        "import tensorflow as tf\n",
        "from tensorflow.keras import layers, models\n",
        "import seaborn as sns\n",
        "from sklearn.metrics import classification_report\n",
        "import keras_tuner as kt"
      ],
      "metadata": {
        "id": "oI7B289X-gGJ"
      },
      "execution_count": 3,
      "outputs": []
    },
    {
      "cell_type": "code",
      "execution_count": 4,
      "metadata": {
        "id": "n54uhpehay07"
      },
      "outputs": [],
      "source": [
        "synthetic_twos = np.loadtxt('/content/drive/MyDrive/ecg/twosleakyrelu.csv', delimiter=',')\n",
        "synthetic_fours = np.loadtxt('/content/drive/MyDrive/ecg/foursleakyrelu.csv', delimiter=',')"
      ]
    },
    {
      "cell_type": "code",
      "execution_count": 5,
      "metadata": {
        "id": "UHrAB7jK_-E1"
      },
      "outputs": [],
      "source": [
        "mit_test_data = pd.read_csv('/content/drive/MyDrive/ecg/mitbih_test.csv', header=None)\n",
        "mit_train_data = pd.read_csv('/content/drive/MyDrive/ecg/mitbih_train.csv', header=None)\n",
        "\n",
        "X_train = mit_train_data.iloc[:, :-1].values\n",
        "y_train = mit_train_data.iloc[:, -1].values\n",
        "X_test = mit_test_data.iloc[:, :-1].values\n",
        "y_test = mit_test_data.iloc[:, -1].values\n",
        "\n",
        "normal = pd.read_csv('/content/drive/MyDrive/ecg/ptbdb_normal.csv', header=None)\n",
        "abnormal = pd.read_csv('/content/drive/MyDrive/ecg/ptbdb_abnormal.csv', header=None)\n",
        "X_normal = normal.iloc[:, :-1].values\n",
        "y_normal = np.zeros(X_normal.shape[0])\n",
        "X_abnormal = abnormal.iloc[:, :-1].values\n",
        "y_abnormal = np.ones(X_abnormal.shape[0])\n",
        "\n",
        "X = np.concatenate([X_normal, X_abnormal], axis=0)\n",
        "y = np.concatenate([y_normal, y_abnormal], axis=0)\n",
        "\n",
        "X_train = X_train.reshape((X_train.shape[0], X_train.shape[1], 1))\n",
        "X_test = X_test.reshape((X_test.shape[0], X_test.shape[1], 1))\n",
        "X = X.reshape((X.shape[0], X.shape[1], 1))\n",
        "\n",
        "Y_train = to_categorical(y_train)\n",
        "Y_test = to_categorical(y_test)"
      ]
    },
    {
      "cell_type": "code",
      "execution_count": null,
      "metadata": {
        "colab": {
          "base_uri": "https://localhost:8080/"
        },
        "id": "2koDSHxSn2Ak",
        "outputId": "55dbffbd-c984-4757-b47c-cc4ba6c7a3bb"
      },
      "outputs": [
        {
          "output_type": "stream",
          "name": "stdout",
          "text": [
            "109446\n"
          ]
        }
      ],
      "source": [
        "print(len(Y_train)+len(Y_test))"
      ]
    },
    {
      "cell_type": "code",
      "execution_count": 6,
      "metadata": {
        "id": "Lb77h4ltZJ06"
      },
      "outputs": [],
      "source": [
        "one = np.array([])\n",
        "one_label = np.array([])\n",
        "three = np.array([])\n",
        "three_label = np.array([])\n",
        "five = np.array([])\n",
        "five_label = np.array([])\n",
        "\n",
        "\n",
        "while one.shape[0] < 5000 or three.shape[0] < 5000 or five.shape[0] < 5000:\n",
        "    for i in range(len(Y_train)):\n",
        "        if np.array_equal(Y_train[i], [1.0, 0.0, 0.0, 0.0, 0.0]):\n",
        "            if one.shape[0] < 5000:\n",
        "                one = np.concatenate([one, [X_train[i]]]) if one.shape[0] > 0 else np.array([X_train[i]])\n",
        "                one_label = np.concatenate([one_label, [[1.0, 0.0, 0.0, 0.0, 0.0]]]) if one_label.shape[0] > 0 else np.array([[1.0, 0.0, 0.0, 0.0, 0.0]])\n",
        "\n",
        "        elif np.array_equal(Y_train[i], [0.0, 0.0, 1.0, 0.0, 0.0]):\n",
        "            if three.shape[0] < 5000:\n",
        "                three = np.concatenate([three, [X_train[i]]]) if three.shape[0] > 0 else np.array([X_train[i]])\n",
        "                three_label = np.concatenate([three_label, [[0.0, 0.0, 1.0, 0.0, 0.0]]]) if three_label.shape[0] > 0 else np.array([[0.0, 0.0, 1.0, 0.0, 0.0]])\n",
        "\n",
        "        elif np.array_equal(Y_train[i], [0.0, 0.0, 0.0, 0.0, 1.0]):\n",
        "            if five.shape[0] < 5000:\n",
        "                five = np.concatenate([five, [X_train[i]]]) if five.shape[0] > 0 else np.array([X_train[i]])\n",
        "                five_label = np.concatenate([five_label, [[0.0, 0.0, 0.0, 0.0, 1.0]]]) if five_label.shape[0] > 0 else np.array([[0.0, 0.0, 0.0, 0.0, 1.0]])\n",
        "\n",
        "\n"
      ]
    },
    {
      "cell_type": "code",
      "execution_count": 7,
      "metadata": {
        "colab": {
          "base_uri": "https://localhost:8080/"
        },
        "id": "Bj2gq9ieejJA",
        "outputId": "98aa1f51-f3cf-439b-d86b-7f7204e92817"
      },
      "outputs": [
        {
          "output_type": "stream",
          "name": "stdout",
          "text": [
            "train (87554, 187, 1)\n",
            "train (87554, 5)\n",
            "one:  (5000, 5)\n",
            "one:  (5000, 187, 1)\n",
            "three:  (5000, 5)\n",
            "three:  (5000, 187, 1)\n",
            "five:  (5000, 5)\n",
            "five:  (5000, 187, 1)\n"
          ]
        }
      ],
      "source": [
        "print(\"train\", X_train.shape)\n",
        "print(\"train\", Y_train.shape)\n",
        "print(\"one: \", one_label.shape)\n",
        "print(\"one: \", one.shape)\n",
        "print(\"three: \", three_label.shape)\n",
        "print(\"three: \", three.shape)\n",
        "print(\"five: \", five_label.shape)\n",
        "print(\"five: \", five.shape)"
      ]
    },
    {
      "cell_type": "code",
      "execution_count": 7,
      "metadata": {
        "id": "B1oYepcXheV2"
      },
      "outputs": [],
      "source": [
        "two = np.array([])\n",
        "four = np.array([])\n",
        "\n",
        "\n",
        "\n",
        "\n",
        "for i in range(len(Y_train)):\n",
        "    if np.array_equal(Y_train[i], [0.0, 1.0, 0.0, 0.0, 0.0]):\n",
        "          two = np.concatenate([two, [X_train[i]]]) if two.shape[0] > 0 else np.array([X_train[i]])\n",
        "\n",
        "\n",
        "    elif np.array_equal(Y_train[i], [0.0, 0.0, 0.0, 1.0, 0.0]):\n",
        "        four = np.concatenate([four, [X_train[i]]]) if four.shape[0] > 0 else np.array([X_train[i]])\n"
      ]
    },
    {
      "cell_type": "code",
      "execution_count": null,
      "metadata": {
        "colab": {
          "base_uri": "https://localhost:8080/"
        },
        "id": "69PSgejpigxN",
        "outputId": "b4ac8e2e-6486-41d3-d6a5-53b1793024f1"
      },
      "outputs": [
        {
          "output_type": "stream",
          "name": "stdout",
          "text": [
            "two:  (2223, 187, 1)\n",
            "four:  (641, 187, 1)\n"
          ]
        }
      ],
      "source": [
        "print(\"two: \", two.shape)\n",
        "print(\"four: \", four.shape)"
      ]
    },
    {
      "cell_type": "code",
      "source": [],
      "metadata": {
        "id": "ESwOvxg_4x8-"
      },
      "execution_count": null,
      "outputs": []
    },
    {
      "cell_type": "code",
      "execution_count": 8,
      "metadata": {
        "id": "X8t_r-xCjnsG"
      },
      "outputs": [],
      "source": [
        "def moving_average_filter(signal, window_size=5):\n",
        "    filtered=[]\n",
        "    for data in signal:\n",
        "      filtered_ecg = np.convolve(data.flatten(), np.ones(window_size) / window_size, mode='same')\n",
        "      filtered.append(filtered_ecg)\n",
        "    return np.array(filtered)\n"
      ]
    },
    {
      "cell_type": "code",
      "execution_count": 9,
      "metadata": {
        "id": "XJ1F0jVKi7yb"
      },
      "outputs": [],
      "source": [
        "one = np.squeeze(one, axis=-1)\n",
        "two = np.squeeze(two, axis=-1)\n",
        "three=np.squeeze(three, axis=-1)\n",
        "four = np.squeeze(four, axis=-1)\n",
        "five = np.squeeze(five, axis=-1)\n",
        "\n",
        "\n",
        "one= moving_average_filter(one)\n",
        "two= moving_average_filter(two)\n",
        "three= moving_average_filter(three)\n",
        "four= moving_average_filter(four)\n",
        "five= moving_average_filter(five)\n",
        "\n",
        "merged_two = np.concatenate((two, synthetic_twos), axis=0)\n",
        "merged_four = np.concatenate((four, synthetic_fours), axis=0)\n"
      ]
    },
    {
      "cell_type": "code",
      "execution_count": 10,
      "metadata": {
        "id": "_kYbYrxPn_Av"
      },
      "outputs": [],
      "source": [
        "X_train_f = np.concatenate((one, merged_two, three, merged_four, five))"
      ]
    },
    {
      "cell_type": "code",
      "execution_count": 11,
      "metadata": {
        "colab": {
          "base_uri": "https://localhost:8080/"
        },
        "id": "QdXX8t3Fpz0C",
        "outputId": "7d74a2ca-52db-4569-da31-8e8af068c8fa"
      },
      "outputs": [
        {
          "output_type": "stream",
          "name": "stdout",
          "text": [
            "(5000, 5)\n",
            "(5000, 5)\n"
          ]
        }
      ],
      "source": [
        "two_label = np.array([0.0, 1.0, 0.0, 0.0, 0.0])\n",
        "\n",
        "repetitions=5000\n",
        "\n",
        "result_two_label = np.tile(two_label, (repetitions, 1))\n",
        "\n",
        "four_label = np.array([0.0, 0.0, 0.0, 1.0, 0.0])\n",
        "\n",
        "\n",
        "result_four_label = np.tile(four_label, (repetitions, 1))\n",
        "\n",
        "print(result_four_label.shape)\n",
        "print(result_two_label.shape)"
      ]
    },
    {
      "cell_type": "code",
      "execution_count": 12,
      "metadata": {
        "id": "cTSzWUrfq3r_"
      },
      "outputs": [],
      "source": [
        "Y_train = np.concatenate((one_label, result_two_label, three_label, result_four_label, five_label))"
      ]
    },
    {
      "cell_type": "code",
      "execution_count": 13,
      "metadata": {
        "id": "xkV_ypnFb4i3"
      },
      "outputs": [],
      "source": [
        "X_test_f=moving_average_filter(X_test)"
      ]
    },
    {
      "cell_type": "code",
      "source": [
        "from sklearn.model_selection import train_test_split\n",
        "\n",
        "\n",
        "X_train, X_val, Y_train, Y_val = train_test_split(X_train_f, Y_train, test_size=0.2, random_state=42)\n",
        "\n"
      ],
      "metadata": {
        "id": "LC8qGQsyyacr"
      },
      "execution_count": 14,
      "outputs": []
    },
    {
      "cell_type": "code",
      "source": [
        "print(X_test_f.shape)\n",
        "print(X_train_f.shape)\n",
        "print(Y_test.shape)\n",
        "print(Y_train.shape)\n",
        "print(X_val.shape)\n",
        "print(Y_val.shape)"
      ],
      "metadata": {
        "colab": {
          "base_uri": "https://localhost:8080/"
        },
        "id": "3iuT_2h31kff",
        "outputId": "ec6943f2-1d33-4dd4-ff30-991b261d99ed"
      },
      "execution_count": 15,
      "outputs": [
        {
          "output_type": "stream",
          "name": "stdout",
          "text": [
            "(21892, 187)\n",
            "(25000, 187)\n",
            "(21892, 5)\n",
            "(20000, 5)\n",
            "(5000, 187)\n",
            "(5000, 5)\n"
          ]
        }
      ]
    },
    {
      "cell_type": "code",
      "source": [
        "def build_model(hp):\n",
        "    model = models.Sequential()\n",
        "\n",
        "    # Convolutional layers\n",
        "    model.add(layers.Conv1D(hp.Int('filter_1', min_value=16, max_value=128, step=16),\n",
        "                            kernel_size=hp.Int('kernelsize_1', min_value=3, max_value=10, step=1),\n",
        "                            activation='relu', input_shape=(187, 1)))\n",
        "\n",
        "    for i in range(hp.Int('n_conv_layers', 1, 3)):\n",
        "        units = hp.Int(f\"conv_{i}_units\", min_value=16, max_value=512, step=32)\n",
        "        kernel_size = hp.Int(f\"conv_{i}_kernelsize\", min_value=3, max_value=5, step=1)\n",
        "        model.add(layers.Conv1D(units, kernel_size=kernel_size, activation='relu'))\n",
        "        model.add(layers.MaxPooling1D(pool_size=2))\n",
        "\n",
        "    model.add(layers.Flatten())\n",
        "\n",
        "    # Dense layers\n",
        "    for i in range(hp.Int('n_dense_layers', 1, 3)):\n",
        "        units = hp.Int(f\"dense_{i}_units\", min_value=16, max_value=1024, step=64)\n",
        "        model.add(layers.Dense(units, activation='relu'))\n",
        "\n",
        "    model.add(layers.Dense(5, activation='softmax'))\n",
        "\n",
        "    model.compile(optimizer=tf.keras.optimizers.Adam(learning_rate=hp.Choice('learning_rate', values=[1e-2, 1e-3, 1e-4])),\n",
        "                  loss=\"categorical_crossentropy\",\n",
        "                  metrics=['accuracy'])\n",
        "\n",
        "    return model"
      ],
      "metadata": {
        "id": "reMjfDhW_u3W"
      },
      "execution_count": 20,
      "outputs": []
    },
    {
      "cell_type": "code",
      "source": [
        "tuner=kt.Hyperband(build_model,\n",
        "                   objective='val_accuracy',\n",
        "                   max_epochs=30,\n",
        "                   factor=3,\n",
        "                   directory='ecg_modelv1',\n",
        "                   project_name='x')\n",
        "\n"
      ],
      "metadata": {
        "id": "zXWtcu7g_whX"
      },
      "execution_count": 22,
      "outputs": []
    },
    {
      "cell_type": "code",
      "execution_count": 23,
      "metadata": {
        "id": "shirSeiVecOl"
      },
      "outputs": [],
      "source": [
        "stop_early=tf.keras.callbacks.EarlyStopping(monitor='val_loss',patience=3)\n"
      ]
    },
    {
      "cell_type": "code",
      "source": [
        "tuner.search(X_train, Y_train, epochs=30, validation_data=(X_val,Y_val), callbacks=[stop_early])\n"
      ],
      "metadata": {
        "colab": {
          "base_uri": "https://localhost:8080/"
        },
        "id": "JmIVNfp6nqH3",
        "outputId": "d2e73e9e-3f89-4ca8-8b99-197237d760c7"
      },
      "execution_count": 24,
      "outputs": [
        {
          "output_type": "stream",
          "name": "stdout",
          "text": [
            "Trial 90 Complete [00h 01m 55s]\n",
            "val_accuracy: 0.9616000056266785\n",
            "\n",
            "Best val_accuracy So Far: 0.968999981880188\n",
            "Total elapsed time: 00h 47m 35s\n"
          ]
        }
      ]
    },
    {
      "cell_type": "code",
      "source": [
        "best_hps=tuner.get_best_hyperparameters(num_trials=1)[0]"
      ],
      "metadata": {
        "id": "jIphbuK5olrx"
      },
      "execution_count": 29,
      "outputs": []
    },
    {
      "cell_type": "code",
      "source": [
        "model=tuner.hypermodel.build(best_hps)\n",
        "history=model.fit(X_train,Y_train,epochs=20,callbacks=[stop_early])"
      ],
      "metadata": {
        "colab": {
          "base_uri": "https://localhost:8080/"
        },
        "id": "MWNBOqXm9Jdk",
        "outputId": "80128a39-73cb-415f-cd59-45e3af5fb9d4"
      },
      "execution_count": 30,
      "outputs": [
        {
          "output_type": "stream",
          "name": "stdout",
          "text": [
            "Epoch 1/20\n",
            "623/625 [============================>.] - ETA: 0s - loss: 0.3857 - accuracy: 0.8649"
          ]
        },
        {
          "output_type": "stream",
          "name": "stderr",
          "text": [
            "WARNING:tensorflow:Early stopping conditioned on metric `val_loss` which is not available. Available metrics are: loss,accuracy\n"
          ]
        },
        {
          "output_type": "stream",
          "name": "stdout",
          "text": [
            "\b\b\b\b\b\b\b\b\b\b\b\b\b\b\b\b\b\b\b\b\b\b\b\b\b\b\b\b\b\b\b\b\b\b\b\b\b\b\b\b\b\b\b\b\b\b\b\b\b\b\b\b\b\b\b\b\b\b\b\b\b\b\b\b\b\b\b\b\b\b\b\b\b\b\b\b\b\b\b\b\b\b\b\b\r625/625 [==============================] - 15s 14ms/step - loss: 0.3858 - accuracy: 0.8650\n",
            "Epoch 2/20\n",
            "625/625 [==============================] - ETA: 0s - loss: 0.1981 - accuracy: 0.9353"
          ]
        },
        {
          "output_type": "stream",
          "name": "stderr",
          "text": [
            "WARNING:tensorflow:Early stopping conditioned on metric `val_loss` which is not available. Available metrics are: loss,accuracy\n"
          ]
        },
        {
          "output_type": "stream",
          "name": "stdout",
          "text": [
            "\b\b\b\b\b\b\b\b\b\b\b\b\b\b\b\b\b\b\b\b\b\b\b\b\b\b\b\b\b\b\b\b\b\b\b\b\b\b\b\b\b\b\b\b\b\b\b\b\b\b\b\b\b\b\b\b\b\b\b\b\b\b\b\b\b\b\b\b\b\b\b\b\b\b\b\b\b\b\b\b\b\b\b\b\r625/625 [==============================] - 5s 8ms/step - loss: 0.1981 - accuracy: 0.9353\n",
            "Epoch 3/20\n",
            "621/625 [============================>.] - ETA: 0s - loss: 0.1465 - accuracy: 0.9503"
          ]
        },
        {
          "output_type": "stream",
          "name": "stderr",
          "text": [
            "WARNING:tensorflow:Early stopping conditioned on metric `val_loss` which is not available. Available metrics are: loss,accuracy\n"
          ]
        },
        {
          "output_type": "stream",
          "name": "stdout",
          "text": [
            "\b\b\b\b\b\b\b\b\b\b\b\b\b\b\b\b\b\b\b\b\b\b\b\b\b\b\b\b\b\b\b\b\b\b\b\b\b\b\b\b\b\b\b\b\b\b\b\b\b\b\b\b\b\b\b\b\b\b\b\b\b\b\b\b\b\b\b\b\b\b\b\b\b\b\b\b\b\b\b\b\b\b\b\b\r625/625 [==============================] - 6s 9ms/step - loss: 0.1460 - accuracy: 0.9505\n",
            "Epoch 4/20\n",
            "622/625 [============================>.] - ETA: 0s - loss: 0.1188 - accuracy: 0.9583"
          ]
        },
        {
          "output_type": "stream",
          "name": "stderr",
          "text": [
            "WARNING:tensorflow:Early stopping conditioned on metric `val_loss` which is not available. Available metrics are: loss,accuracy\n"
          ]
        },
        {
          "output_type": "stream",
          "name": "stdout",
          "text": [
            "\b\b\b\b\b\b\b\b\b\b\b\b\b\b\b\b\b\b\b\b\b\b\b\b\b\b\b\b\b\b\b\b\b\b\b\b\b\b\b\b\b\b\b\b\b\b\b\b\b\b\b\b\b\b\b\b\b\b\b\b\b\b\b\b\b\b\b\b\b\b\b\b\b\b\b\b\b\b\b\b\b\b\b\b\r625/625 [==============================] - 5s 8ms/step - loss: 0.1187 - accuracy: 0.9583\n",
            "Epoch 5/20\n",
            "620/625 [============================>.] - ETA: 0s - loss: 0.1002 - accuracy: 0.9663"
          ]
        },
        {
          "output_type": "stream",
          "name": "stderr",
          "text": [
            "WARNING:tensorflow:Early stopping conditioned on metric `val_loss` which is not available. Available metrics are: loss,accuracy\n"
          ]
        },
        {
          "output_type": "stream",
          "name": "stdout",
          "text": [
            "\b\b\b\b\b\b\b\b\b\b\b\b\b\b\b\b\b\b\b\b\b\b\b\b\b\b\b\b\b\b\b\b\b\b\b\b\b\b\b\b\b\b\b\b\b\b\b\b\b\b\b\b\b\b\b\b\b\b\b\b\b\b\b\b\b\b\b\b\b\b\b\b\b\b\b\b\b\b\b\b\b\b\b\b\r625/625 [==============================] - 5s 8ms/step - loss: 0.1001 - accuracy: 0.9663\n",
            "Epoch 6/20\n",
            "623/625 [============================>.] - ETA: 0s - loss: 0.0854 - accuracy: 0.9704"
          ]
        },
        {
          "output_type": "stream",
          "name": "stderr",
          "text": [
            "WARNING:tensorflow:Early stopping conditioned on metric `val_loss` which is not available. Available metrics are: loss,accuracy\n"
          ]
        },
        {
          "output_type": "stream",
          "name": "stdout",
          "text": [
            "\b\b\b\b\b\b\b\b\b\b\b\b\b\b\b\b\b\b\b\b\b\b\b\b\b\b\b\b\b\b\b\b\b\b\b\b\b\b\b\b\b\b\b\b\b\b\b\b\b\b\b\b\b\b\b\b\b\b\b\b\b\b\b\b\b\b\b\b\b\b\b\b\b\b\b\b\b\b\b\b\b\b\b\b\r625/625 [==============================] - 5s 9ms/step - loss: 0.0853 - accuracy: 0.9704\n",
            "Epoch 7/20\n",
            "621/625 [============================>.] - ETA: 0s - loss: 0.0759 - accuracy: 0.9730"
          ]
        },
        {
          "output_type": "stream",
          "name": "stderr",
          "text": [
            "WARNING:tensorflow:Early stopping conditioned on metric `val_loss` which is not available. Available metrics are: loss,accuracy\n"
          ]
        },
        {
          "output_type": "stream",
          "name": "stdout",
          "text": [
            "\b\b\b\b\b\b\b\b\b\b\b\b\b\b\b\b\b\b\b\b\b\b\b\b\b\b\b\b\b\b\b\b\b\b\b\b\b\b\b\b\b\b\b\b\b\b\b\b\b\b\b\b\b\b\b\b\b\b\b\b\b\b\b\b\b\b\b\b\b\b\b\b\b\b\b\b\b\b\b\b\b\b\b\b\r625/625 [==============================] - 5s 8ms/step - loss: 0.0760 - accuracy: 0.9731\n",
            "Epoch 8/20\n",
            "623/625 [============================>.] - ETA: 0s - loss: 0.0654 - accuracy: 0.9773"
          ]
        },
        {
          "output_type": "stream",
          "name": "stderr",
          "text": [
            "WARNING:tensorflow:Early stopping conditioned on metric `val_loss` which is not available. Available metrics are: loss,accuracy\n"
          ]
        },
        {
          "output_type": "stream",
          "name": "stdout",
          "text": [
            "\b\b\b\b\b\b\b\b\b\b\b\b\b\b\b\b\b\b\b\b\b\b\b\b\b\b\b\b\b\b\b\b\b\b\b\b\b\b\b\b\b\b\b\b\b\b\b\b\b\b\b\b\b\b\b\b\b\b\b\b\b\b\b\b\b\b\b\b\b\b\b\b\b\b\b\b\b\b\b\b\b\b\b\b\r625/625 [==============================] - 5s 8ms/step - loss: 0.0653 - accuracy: 0.9773\n",
            "Epoch 9/20\n",
            "625/625 [==============================] - ETA: 0s - loss: 0.0474 - accuracy: 0.9828"
          ]
        },
        {
          "output_type": "stream",
          "name": "stderr",
          "text": [
            "WARNING:tensorflow:Early stopping conditioned on metric `val_loss` which is not available. Available metrics are: loss,accuracy\n"
          ]
        },
        {
          "output_type": "stream",
          "name": "stdout",
          "text": [
            "\b\b\b\b\b\b\b\b\b\b\b\b\b\b\b\b\b\b\b\b\b\b\b\b\b\b\b\b\b\b\b\b\b\b\b\b\b\b\b\b\b\b\b\b\b\b\b\b\b\b\b\b\b\b\b\b\b\b\b\b\b\b\b\b\b\b\b\b\b\b\b\b\b\b\b\b\b\b\b\b\b\b\b\b\r625/625 [==============================] - 5s 9ms/step - loss: 0.0474 - accuracy: 0.9828\n",
            "Epoch 10/20\n",
            "619/625 [============================>.] - ETA: 0s - loss: 0.0559 - accuracy: 0.9799"
          ]
        },
        {
          "output_type": "stream",
          "name": "stderr",
          "text": [
            "WARNING:tensorflow:Early stopping conditioned on metric `val_loss` which is not available. Available metrics are: loss,accuracy\n"
          ]
        },
        {
          "output_type": "stream",
          "name": "stdout",
          "text": [
            "\b\b\b\b\b\b\b\b\b\b\b\b\b\b\b\b\b\b\b\b\b\b\b\b\b\b\b\b\b\b\b\b\b\b\b\b\b\b\b\b\b\b\b\b\b\b\b\b\b\b\b\b\b\b\b\b\b\b\b\b\b\b\b\b\b\b\b\b\b\b\b\b\b\b\b\b\b\b\b\b\b\b\b\b\r625/625 [==============================] - 5s 8ms/step - loss: 0.0559 - accuracy: 0.9799\n",
            "Epoch 11/20\n",
            "624/625 [============================>.] - ETA: 0s - loss: 0.0414 - accuracy: 0.9861"
          ]
        },
        {
          "output_type": "stream",
          "name": "stderr",
          "text": [
            "WARNING:tensorflow:Early stopping conditioned on metric `val_loss` which is not available. Available metrics are: loss,accuracy\n"
          ]
        },
        {
          "output_type": "stream",
          "name": "stdout",
          "text": [
            "\b\b\b\b\b\b\b\b\b\b\b\b\b\b\b\b\b\b\b\b\b\b\b\b\b\b\b\b\b\b\b\b\b\b\b\b\b\b\b\b\b\b\b\b\b\b\b\b\b\b\b\b\b\b\b\b\b\b\b\b\b\b\b\b\b\b\b\b\b\b\b\b\b\b\b\b\b\b\b\b\b\b\b\b\r625/625 [==============================] - 5s 8ms/step - loss: 0.0414 - accuracy: 0.9861\n",
            "Epoch 12/20\n",
            "621/625 [============================>.] - ETA: 0s - loss: 0.0422 - accuracy: 0.9852"
          ]
        },
        {
          "output_type": "stream",
          "name": "stderr",
          "text": [
            "WARNING:tensorflow:Early stopping conditioned on metric `val_loss` which is not available. Available metrics are: loss,accuracy\n"
          ]
        },
        {
          "output_type": "stream",
          "name": "stdout",
          "text": [
            "\b\b\b\b\b\b\b\b\b\b\b\b\b\b\b\b\b\b\b\b\b\b\b\b\b\b\b\b\b\b\b\b\b\b\b\b\b\b\b\b\b\b\b\b\b\b\b\b\b\b\b\b\b\b\b\b\b\b\b\b\b\b\b\b\b\b\b\b\b\b\b\b\b\b\b\b\b\b\b\b\b\b\b\b\r625/625 [==============================] - 5s 9ms/step - loss: 0.0422 - accuracy: 0.9851\n",
            "Epoch 13/20\n",
            "622/625 [============================>.] - ETA: 0s - loss: 0.0420 - accuracy: 0.9858"
          ]
        },
        {
          "output_type": "stream",
          "name": "stderr",
          "text": [
            "WARNING:tensorflow:Early stopping conditioned on metric `val_loss` which is not available. Available metrics are: loss,accuracy\n"
          ]
        },
        {
          "output_type": "stream",
          "name": "stdout",
          "text": [
            "\b\b\b\b\b\b\b\b\b\b\b\b\b\b\b\b\b\b\b\b\b\b\b\b\b\b\b\b\b\b\b\b\b\b\b\b\b\b\b\b\b\b\b\b\b\b\b\b\b\b\b\b\b\b\b\b\b\b\b\b\b\b\b\b\b\b\b\b\b\b\b\b\b\b\b\b\b\b\b\b\b\b\b\b\r625/625 [==============================] - 5s 8ms/step - loss: 0.0420 - accuracy: 0.9857\n",
            "Epoch 14/20\n",
            "625/625 [==============================] - ETA: 0s - loss: 0.0370 - accuracy: 0.9877"
          ]
        },
        {
          "output_type": "stream",
          "name": "stderr",
          "text": [
            "WARNING:tensorflow:Early stopping conditioned on metric `val_loss` which is not available. Available metrics are: loss,accuracy\n"
          ]
        },
        {
          "output_type": "stream",
          "name": "stdout",
          "text": [
            "\b\b\b\b\b\b\b\b\b\b\b\b\b\b\b\b\b\b\b\b\b\b\b\b\b\b\b\b\b\b\b\b\b\b\b\b\b\b\b\b\b\b\b\b\b\b\b\b\b\b\b\b\b\b\b\b\b\b\b\b\b\b\b\b\b\b\b\b\b\b\b\b\b\b\b\b\b\b\b\b\b\b\b\b\r625/625 [==============================] - 5s 8ms/step - loss: 0.0370 - accuracy: 0.9877\n",
            "Epoch 15/20\n",
            "620/625 [============================>.] - ETA: 0s - loss: 0.0324 - accuracy: 0.9883"
          ]
        },
        {
          "output_type": "stream",
          "name": "stderr",
          "text": [
            "WARNING:tensorflow:Early stopping conditioned on metric `val_loss` which is not available. Available metrics are: loss,accuracy\n"
          ]
        },
        {
          "output_type": "stream",
          "name": "stdout",
          "text": [
            "\b\b\b\b\b\b\b\b\b\b\b\b\b\b\b\b\b\b\b\b\b\b\b\b\b\b\b\b\b\b\b\b\b\b\b\b\b\b\b\b\b\b\b\b\b\b\b\b\b\b\b\b\b\b\b\b\b\b\b\b\b\b\b\b\b\b\b\b\b\b\b\b\b\b\b\b\b\b\b\b\b\b\b\b\r625/625 [==============================] - 6s 9ms/step - loss: 0.0323 - accuracy: 0.9883\n",
            "Epoch 16/20\n",
            "625/625 [==============================] - ETA: 0s - loss: 0.0292 - accuracy: 0.9896"
          ]
        },
        {
          "output_type": "stream",
          "name": "stderr",
          "text": [
            "WARNING:tensorflow:Early stopping conditioned on metric `val_loss` which is not available. Available metrics are: loss,accuracy\n"
          ]
        },
        {
          "output_type": "stream",
          "name": "stdout",
          "text": [
            "\b\b\b\b\b\b\b\b\b\b\b\b\b\b\b\b\b\b\b\b\b\b\b\b\b\b\b\b\b\b\b\b\b\b\b\b\b\b\b\b\b\b\b\b\b\b\b\b\b\b\b\b\b\b\b\b\b\b\b\b\b\b\b\b\b\b\b\b\b\b\b\b\b\b\b\b\b\b\b\b\b\b\b\b\r625/625 [==============================] - 5s 8ms/step - loss: 0.0292 - accuracy: 0.9896\n",
            "Epoch 17/20\n",
            "621/625 [============================>.] - ETA: 0s - loss: 0.0283 - accuracy: 0.9905"
          ]
        },
        {
          "output_type": "stream",
          "name": "stderr",
          "text": [
            "WARNING:tensorflow:Early stopping conditioned on metric `val_loss` which is not available. Available metrics are: loss,accuracy\n"
          ]
        },
        {
          "output_type": "stream",
          "name": "stdout",
          "text": [
            "\b\b\b\b\b\b\b\b\b\b\b\b\b\b\b\b\b\b\b\b\b\b\b\b\b\b\b\b\b\b\b\b\b\b\b\b\b\b\b\b\b\b\b\b\b\b\b\b\b\b\b\b\b\b\b\b\b\b\b\b\b\b\b\b\b\b\b\b\b\b\b\b\b\b\b\b\b\b\b\b\b\b\b\b\r625/625 [==============================] - 5s 8ms/step - loss: 0.0281 - accuracy: 0.9905\n",
            "Epoch 18/20\n",
            "621/625 [============================>.] - ETA: 0s - loss: 0.0305 - accuracy: 0.9897"
          ]
        },
        {
          "output_type": "stream",
          "name": "stderr",
          "text": [
            "WARNING:tensorflow:Early stopping conditioned on metric `val_loss` which is not available. Available metrics are: loss,accuracy\n"
          ]
        },
        {
          "output_type": "stream",
          "name": "stdout",
          "text": [
            "\b\b\b\b\b\b\b\b\b\b\b\b\b\b\b\b\b\b\b\b\b\b\b\b\b\b\b\b\b\b\b\b\b\b\b\b\b\b\b\b\b\b\b\b\b\b\b\b\b\b\b\b\b\b\b\b\b\b\b\b\b\b\b\b\b\b\b\b\b\b\b\b\b\b\b\b\b\b\b\b\b\b\b\b\r625/625 [==============================] - 5s 8ms/step - loss: 0.0304 - accuracy: 0.9898\n",
            "Epoch 19/20\n",
            "625/625 [==============================] - ETA: 0s - loss: 0.0260 - accuracy: 0.9916"
          ]
        },
        {
          "output_type": "stream",
          "name": "stderr",
          "text": [
            "WARNING:tensorflow:Early stopping conditioned on metric `val_loss` which is not available. Available metrics are: loss,accuracy\n"
          ]
        },
        {
          "output_type": "stream",
          "name": "stdout",
          "text": [
            "\b\b\b\b\b\b\b\b\b\b\b\b\b\b\b\b\b\b\b\b\b\b\b\b\b\b\b\b\b\b\b\b\b\b\b\b\b\b\b\b\b\b\b\b\b\b\b\b\b\b\b\b\b\b\b\b\b\b\b\b\b\b\b\b\b\b\b\b\b\b\b\b\b\b\b\b\b\b\b\b\b\b\b\b\r625/625 [==============================] - 5s 8ms/step - loss: 0.0260 - accuracy: 0.9916\n",
            "Epoch 20/20\n",
            "621/625 [============================>.] - ETA: 0s - loss: 0.0209 - accuracy: 0.9919"
          ]
        },
        {
          "output_type": "stream",
          "name": "stderr",
          "text": [
            "WARNING:tensorflow:Early stopping conditioned on metric `val_loss` which is not available. Available metrics are: loss,accuracy\n"
          ]
        },
        {
          "output_type": "stream",
          "name": "stdout",
          "text": [
            "\b\b\b\b\b\b\b\b\b\b\b\b\b\b\b\b\b\b\b\b\b\b\b\b\b\b\b\b\b\b\b\b\b\b\b\b\b\b\b\b\b\b\b\b\b\b\b\b\b\b\b\b\b\b\b\b\b\b\b\b\b\b\b\b\b\b\b\b\b\b\b\b\b\b\b\b\b\b\b\b\b\b\b\b\r625/625 [==============================] - 5s 8ms/step - loss: 0.0210 - accuracy: 0.9919\n"
          ]
        }
      ]
    },
    {
      "cell_type": "code",
      "source": [
        "model.summary()"
      ],
      "metadata": {
        "colab": {
          "base_uri": "https://localhost:8080/"
        },
        "id": "4F9wXsD2n36l",
        "outputId": "f00defda-5d1b-4538-90a9-b21440e7d402"
      },
      "execution_count": 40,
      "outputs": [
        {
          "output_type": "stream",
          "name": "stdout",
          "text": [
            "Model: \"sequential_2\"\n",
            "_________________________________________________________________\n",
            " Layer (type)                Output Shape              Param #   \n",
            "=================================================================\n",
            " conv1d_8 (Conv1D)           (None, 180, 80)           720       \n",
            "                                                                 \n",
            " conv1d_9 (Conv1D)           (None, 177, 304)          97584     \n",
            "                                                                 \n",
            " max_pooling1d_6 (MaxPoolin  (None, 88, 304)           0         \n",
            " g1D)                                                            \n",
            "                                                                 \n",
            " conv1d_10 (Conv1D)          (None, 85, 240)           292080    \n",
            "                                                                 \n",
            " max_pooling1d_7 (MaxPoolin  (None, 42, 240)           0         \n",
            " g1D)                                                            \n",
            "                                                                 \n",
            " conv1d_11 (Conv1D)          (None, 40, 176)           126896    \n",
            "                                                                 \n",
            " max_pooling1d_8 (MaxPoolin  (None, 20, 176)           0         \n",
            " g1D)                                                            \n",
            "                                                                 \n",
            " flatten_2 (Flatten)         (None, 3520)              0         \n",
            "                                                                 \n",
            " dense_7 (Dense)             (None, 656)               2309776   \n",
            "                                                                 \n",
            " dense_8 (Dense)             (None, 336)               220752    \n",
            "                                                                 \n",
            " dense_9 (Dense)             (None, 976)               328912    \n",
            "                                                                 \n",
            " dense_10 (Dense)            (None, 5)                 4885      \n",
            "                                                                 \n",
            "=================================================================\n",
            "Total params: 3381605 (12.90 MB)\n",
            "Trainable params: 3381605 (12.90 MB)\n",
            "Non-trainable params: 0 (0.00 Byte)\n",
            "_________________________________________________________________\n"
          ]
        }
      ]
    },
    {
      "cell_type": "code",
      "execution_count": 45,
      "metadata": {
        "colab": {
          "base_uri": "https://localhost:8080/",
          "height": 480
        },
        "id": "MVzUKID7ial1",
        "outputId": "937e6feb-c09f-45f4-f0c6-6a1942e5ccd3"
      },
      "outputs": [
        {
          "output_type": "execute_result",
          "data": {
            "text/plain": [
              "<matplotlib.legend.Legend at 0x7dc3d06ea2f0>"
            ]
          },
          "metadata": {},
          "execution_count": 45
        },
        {
          "output_type": "display_data",
          "data": {
            "text/plain": [
              "<Figure size 640x480 with 1 Axes>"
            ],
            "image/png": "[encoded data removed]"
          },
          "metadata": {}
        }
      ],
      "source": [
        "plt.plot(history.history['accuracy'], label='accuracy')\n",
        "plt.plot(history.history['loss'], label='loss')\n",
        "plt.xlabel('Epoch')\n",
        "plt.ylabel('Accuracy')\n",
        "\n",
        "plt.legend(loc='lower right')"
      ]
    },
    {
      "cell_type": "code",
      "execution_count": 39,
      "metadata": {
        "colab": {
          "base_uri": "https://localhost:8080/"
        },
        "id": "Q3-eegQ5ifmt",
        "outputId": "3616d6b3-8d97-44c9-964e-a6381a1873cb"
      },
      "outputs": [
        {
          "output_type": "stream",
          "name": "stdout",
          "text": [
            "685/685 [==============================] - 4s 6ms/step - loss: 0.1933 - accuracy: 0.9582\n",
            "Loss=0.19325754046440125\n",
            "95.82%\n"
          ]
        }
      ],
      "source": [
        "loss, accuracy=model.evaluate(X_test_f,Y_test)\n",
        "print(f'Loss={loss}')\n",
        "print(f'{accuracy * 100:.2f}%')"
      ]
    },
    {
      "cell_type": "code",
      "source": [
        "model.save('/content/drive/MyDrive/ecg/finalymodel.h5')"
      ],
      "metadata": {
        "id": "3YJf9Mm0gnDV",
        "colab": {
          "base_uri": "https://localhost:8080/"
        },
        "outputId": "6d367bf6-8549-4d86-e2ff-abdb02564728"
      },
      "execution_count": 35,
      "outputs": [
        {
          "output_type": "stream",
          "name": "stderr",
          "text": [
            "/usr/local/lib/python3.10/dist-packages/keras/src/engine/training.py:3079: UserWarning: You are saving your model as an HDF5 file via `model.save()`. This file format is considered legacy. We recommend using instead the native Keras format, e.g. `model.save('my_model.keras')`.\n",
            "  saving_api.save_model(\n"
          ]
        }
      ]
    },
    {
      "cell_type": "code",
      "source": [
        "model=tf.keras.models.load_model('/content/drive/MyDrive/ecg/finalymodel.h5')"
      ],
      "metadata": {
        "id": "G_ghiGQSgwJP"
      },
      "execution_count": 36,
      "outputs": []
    },
    {
      "cell_type": "code",
      "source": [
        "!zip -r /content/ecg_modelv1.zip /content/ecg_modelv1"
      ],
      "metadata": {
        "colab": {
          "base_uri": "https://localhost:8080/"
        },
        "id": "A6l7NWwaEsyA",
        "outputId": "db5967e9-7515-45f5-e399-ef31a3ef17d5"
      },
      "execution_count": 44,
      "outputs": [
        {
          "output_type": "stream",
          "name": "stdout",
          "text": [
            "  adding: content/ecg_modelv1/ (stored 0%)\n",
            "  adding: content/ecg_modelv1/x/ (stored 0%)\n",
            "  adding: content/ecg_modelv1/x/trial_0079/ (stored 0%)\n",
            "  adding: content/ecg_modelv1/x/trial_0079/checkpoint.index (deflated 59%)\n",
            "  adding: content/ecg_modelv1/x/trial_0079/checkpoint.data-00000-of-00001 (deflated 25%)\n",
            "  adding: content/ecg_modelv1/x/trial_0079/trial.json (deflated 81%)\n",
            "  adding: content/ecg_modelv1/x/trial_0079/checkpoint (deflated 48%)\n",
            "  adding: content/ecg_modelv1/x/trial_0089/ (stored 0%)\n",
            "  adding: content/ecg_modelv1/x/trial_0089/checkpoint.index (deflated 63%)\n",
            "  adding: content/ecg_modelv1/x/trial_0089/checkpoint.data-00000-of-00001 (deflated 22%)\n",
            "  adding: content/ecg_modelv1/x/trial_0089/trial.json (deflated 81%)\n",
            "  adding: content/ecg_modelv1/x/trial_0089/checkpoint (deflated 48%)\n",
            "  adding: content/ecg_modelv1/x/trial_0007/ (stored 0%)\n",
            "  adding: content/ecg_modelv1/x/trial_0007/checkpoint.index (deflated 63%)\n",
            "  adding: content/ecg_modelv1/x/trial_0007/checkpoint.data-00000-of-00001 (deflated 24%)\n",
            "  adding: content/ecg_modelv1/x/trial_0007/trial.json (deflated 81%)\n",
            "  adding: content/ecg_modelv1/x/trial_0007/checkpoint (deflated 48%)\n",
            "  adding: content/ecg_modelv1/x/trial_0010/ (stored 0%)\n",
            "  adding: content/ecg_modelv1/x/trial_0010/checkpoint.index (deflated 62%)\n",
            "  adding: content/ecg_modelv1/x/trial_0010/checkpoint.data-00000-of-00001 (deflated 13%)\n",
            "  adding: content/ecg_modelv1/x/trial_0010/trial.json (deflated 81%)\n",
            "  adding: content/ecg_modelv1/x/trial_0010/checkpoint (deflated 48%)\n",
            "  adding: content/ecg_modelv1/x/trial_0029/ (stored 0%)\n",
            "  adding: content/ecg_modelv1/x/trial_0029/checkpoint.index (deflated 63%)\n",
            "  adding: content/ecg_modelv1/x/trial_0029/checkpoint.data-00000-of-00001 (deflated 12%)\n",
            "  adding: content/ecg_modelv1/x/trial_0029/trial.json (deflated 81%)\n",
            "  adding: content/ecg_modelv1/x/trial_0029/checkpoint (deflated 48%)\n",
            "  adding: content/ecg_modelv1/x/trial_0028/ (stored 0%)\n",
            "  adding: content/ecg_modelv1/x/trial_0028/checkpoint.index (deflated 61%)\n",
            "  adding: content/ecg_modelv1/x/trial_0028/checkpoint.data-00000-of-00001 (deflated 22%)\n",
            "  adding: content/ecg_modelv1/x/trial_0028/trial.json (deflated 81%)\n",
            "  adding: content/ecg_modelv1/x/trial_0028/checkpoint (deflated 48%)\n",
            "  adding: content/ecg_modelv1/x/trial_0032/ (stored 0%)\n",
            "  adding: content/ecg_modelv1/x/trial_0032/checkpoint.index (deflated 64%)\n",
            "  adding: content/ecg_modelv1/x/trial_0032/checkpoint.data-00000-of-00001 (deflated 9%)\n",
            "  adding: content/ecg_modelv1/x/trial_0032/trial.json (deflated 81%)\n",
            "  adding: content/ecg_modelv1/x/trial_0032/checkpoint (deflated 48%)\n",
            "  adding: content/ecg_modelv1/x/trial_0076/ (stored 0%)\n",
            "  adding: content/ecg_modelv1/x/trial_0076/checkpoint.index (deflated 63%)\n",
            "  adding: content/ecg_modelv1/x/trial_0076/checkpoint.data-00000-of-00001 (deflated 12%)\n",
            "  adding: content/ecg_modelv1/x/trial_0076/trial.json (deflated 81%)\n",
            "  adding: content/ecg_modelv1/x/trial_0076/checkpoint (deflated 48%)\n",
            "  adding: content/ecg_modelv1/x/trial_0086/ (stored 0%)\n",
            "  adding: content/ecg_modelv1/x/trial_0086/checkpoint.index (deflated 61%)\n",
            "  adding: content/ecg_modelv1/x/trial_0086/checkpoint.data-00000-of-00001 (deflated 12%)\n",
            "  adding: content/ecg_modelv1/x/trial_0086/trial.json (deflated 81%)\n",
            "  adding: content/ecg_modelv1/x/trial_0086/checkpoint (deflated 48%)\n",
            "  adding: content/ecg_modelv1/x/trial_0041/ (stored 0%)\n",
            "  adding: content/ecg_modelv1/x/trial_0041/checkpoint.index (deflated 62%)\n",
            "  adding: content/ecg_modelv1/x/trial_0041/checkpoint.data-00000-of-00001 (deflated 22%)\n",
            "  adding: content/ecg_modelv1/x/trial_0041/trial.json (deflated 81%)\n",
            "  adding: content/ecg_modelv1/x/trial_0041/checkpoint (deflated 48%)\n",
            "  adding: content/ecg_modelv1/x/trial_0022/ (stored 0%)\n",
            "  adding: content/ecg_modelv1/x/trial_0022/checkpoint.index (deflated 62%)\n",
            "  adding: content/ecg_modelv1/x/trial_0022/checkpoint.data-00000-of-00001 (deflated 33%)\n",
            "  adding: content/ecg_modelv1/x/trial_0022/trial.json (deflated 81%)\n",
            "  adding: content/ecg_modelv1/x/trial_0022/checkpoint (deflated 48%)\n",
            "  adding: content/ecg_modelv1/x/trial_0048/ (stored 0%)\n",
            "  adding: content/ecg_modelv1/x/trial_0048/checkpoint.index (deflated 62%)\n",
            "  adding: content/ecg_modelv1/x/trial_0048/checkpoint.data-00000-of-00001 (deflated 22%)\n",
            "  adding: content/ecg_modelv1/x/trial_0048/trial.json (deflated 81%)\n",
            "  adding: content/ecg_modelv1/x/trial_0048/checkpoint (deflated 48%)\n",
            "  adding: content/ecg_modelv1/x/trial_0060/ (stored 0%)\n",
            "  adding: content/ecg_modelv1/x/trial_0060/checkpoint.index (deflated 63%)\n",
            "  adding: content/ecg_modelv1/x/trial_0060/checkpoint.data-00000-of-00001 (deflated 17%)\n",
            "  adding: content/ecg_modelv1/x/trial_0060/trial.json (deflated 81%)\n",
            "  adding: content/ecg_modelv1/x/trial_0060/checkpoint (deflated 48%)\n",
            "  adding: content/ecg_modelv1/x/trial_0005/ (stored 0%)\n",
            "  adding: content/ecg_modelv1/x/trial_0005/checkpoint.index (deflated 65%)\n",
            "  adding: content/ecg_modelv1/x/trial_0005/checkpoint.data-00000-of-00001 (deflated 10%)\n",
            "  adding: content/ecg_modelv1/x/trial_0005/trial.json (deflated 81%)\n",
            "  adding: content/ecg_modelv1/x/trial_0005/checkpoint (deflated 48%)\n",
            "  adding: content/ecg_modelv1/x/trial_0072/ (stored 0%)\n",
            "  adding: content/ecg_modelv1/x/trial_0072/checkpoint.index (deflated 63%)\n",
            "  adding: content/ecg_modelv1/x/trial_0072/checkpoint.data-00000-of-00001 (deflated 25%)\n",
            "  adding: content/ecg_modelv1/x/trial_0072/trial.json (deflated 81%)\n",
            "  adding: content/ecg_modelv1/x/trial_0072/checkpoint (deflated 48%)\n",
            "  adding: content/ecg_modelv1/x/trial_0020/ (stored 0%)\n",
            "  adding: content/ecg_modelv1/x/trial_0020/checkpoint.index (deflated 59%)\n",
            "  adding: content/ecg_modelv1/x/trial_0020/checkpoint.data-00000-of-00001 (deflated 21%)\n",
            "  adding: content/ecg_modelv1/x/trial_0020/trial.json (deflated 81%)\n",
            "  adding: content/ecg_modelv1/x/trial_0020/checkpoint (deflated 48%)\n",
            "  adding: content/ecg_modelv1/x/trial_0087/ (stored 0%)\n",
            "  adding: content/ecg_modelv1/x/trial_0087/checkpoint.index (deflated 63%)\n",
            "  adding: content/ecg_modelv1/x/trial_0087/checkpoint.data-00000-of-00001 (deflated 13%)\n",
            "  adding: content/ecg_modelv1/x/trial_0087/trial.json (deflated 81%)\n",
            "  adding: content/ecg_modelv1/x/trial_0087/checkpoint (deflated 48%)\n",
            "  adding: content/ecg_modelv1/x/trial_0006/ (stored 0%)\n",
            "  adding: content/ecg_modelv1/x/trial_0006/checkpoint.index (deflated 63%)\n",
            "  adding: content/ecg_modelv1/x/trial_0006/checkpoint.data-00000-of-00001 (deflated 12%)\n",
            "  adding: content/ecg_modelv1/x/trial_0006/trial.json (deflated 81%)\n",
            "  adding: content/ecg_modelv1/x/trial_0006/checkpoint (deflated 48%)\n",
            "  adding: content/ecg_modelv1/x/trial_0038/ (stored 0%)\n",
            "  adding: content/ecg_modelv1/x/trial_0038/checkpoint.index (deflated 61%)\n",
            "  adding: content/ecg_modelv1/x/trial_0038/checkpoint.data-00000-of-00001 (deflated 23%)\n",
            "  adding: content/ecg_modelv1/x/trial_0038/trial.json (deflated 81%)\n",
            "  adding: content/ecg_modelv1/x/trial_0038/checkpoint (deflated 48%)\n",
            "  adding: content/ecg_modelv1/x/trial_0055/ (stored 0%)\n",
            "  adding: content/ecg_modelv1/x/trial_0055/checkpoint.index (deflated 63%)\n",
            "  adding: content/ecg_modelv1/x/trial_0055/checkpoint.data-00000-of-00001 (deflated 24%)\n",
            "  adding: content/ecg_modelv1/x/trial_0055/trial.json (deflated 81%)\n",
            "  adding: content/ecg_modelv1/x/trial_0055/checkpoint (deflated 48%)\n",
            "  adding: content/ecg_modelv1/x/trial_0059/ (stored 0%)\n",
            "  adding: content/ecg_modelv1/x/trial_0059/checkpoint.index (deflated 62%)\n",
            "  adding: content/ecg_modelv1/x/trial_0059/checkpoint.data-00000-of-00001 (deflated 39%)\n",
            "  adding: content/ecg_modelv1/x/trial_0059/trial.json (deflated 81%)\n",
            "  adding: content/ecg_modelv1/x/trial_0059/checkpoint (deflated 48%)\n",
            "  adding: content/ecg_modelv1/x/trial_0002/ (stored 0%)\n",
            "  adding: content/ecg_modelv1/x/trial_0002/checkpoint.index (deflated 63%)\n",
            "  adding: content/ecg_modelv1/x/trial_0002/checkpoint.data-00000-of-00001 (deflated 15%)\n",
            "  adding: content/ecg_modelv1/x/trial_0002/trial.json (deflated 81%)\n",
            "  adding: content/ecg_modelv1/x/trial_0002/checkpoint (deflated 48%)\n",
            "  adding: content/ecg_modelv1/x/tuner0.json (stored 0%)\n",
            "  adding: content/ecg_modelv1/x/trial_0012/ (stored 0%)\n",
            "  adding: content/ecg_modelv1/x/trial_0012/checkpoint.index (deflated 63%)\n",
            "  adding: content/ecg_modelv1/x/trial_0012/checkpoint.data-00000-of-00001 (deflated 14%)\n",
            "  adding: content/ecg_modelv1/x/trial_0012/trial.json (deflated 81%)\n",
            "  adding: content/ecg_modelv1/x/trial_0012/checkpoint (deflated 48%)\n",
            "  adding: content/ecg_modelv1/x/trial_0024/ (stored 0%)\n",
            "  adding: content/ecg_modelv1/x/trial_0024/checkpoint.index (deflated 61%)\n",
            "  adding: content/ecg_modelv1/x/trial_0024/checkpoint.data-00000-of-00001 (deflated 38%)\n",
            "  adding: content/ecg_modelv1/x/trial_0024/trial.json (deflated 81%)\n",
            "  adding: content/ecg_modelv1/x/trial_0024/checkpoint (deflated 48%)\n",
            "  adding: content/ecg_modelv1/x/oracle.json (deflated 72%)\n",
            "  adding: content/ecg_modelv1/x/trial_0004/ (stored 0%)\n",
            "  adding: content/ecg_modelv1/x/trial_0004/checkpoint.index (deflated 59%)\n",
            "  adding: content/ecg_modelv1/x/trial_0004/checkpoint.data-00000-of-00001 (deflated 39%)\n",
            "  adding: content/ecg_modelv1/x/trial_0004/trial.json (deflated 81%)\n",
            "  adding: content/ecg_modelv1/x/trial_0004/checkpoint (deflated 48%)\n",
            "  adding: content/ecg_modelv1/x/trial_0049/ (stored 0%)\n",
            "  adding: content/ecg_modelv1/x/trial_0049/checkpoint.index (deflated 61%)\n",
            "  adding: content/ecg_modelv1/x/trial_0049/checkpoint.data-00000-of-00001 (deflated 24%)\n",
            "  adding: content/ecg_modelv1/x/trial_0049/trial.json (deflated 81%)\n",
            "  adding: content/ecg_modelv1/x/trial_0049/checkpoint (deflated 48%)\n",
            "  adding: content/ecg_modelv1/x/trial_0061/ (stored 0%)\n",
            "  adding: content/ecg_modelv1/x/trial_0061/checkpoint.index (deflated 63%)\n",
            "  adding: content/ecg_modelv1/x/trial_0061/checkpoint.data-00000-of-00001 (deflated 13%)\n",
            "  adding: content/ecg_modelv1/x/trial_0061/trial.json (deflated 81%)\n",
            "  adding: content/ecg_modelv1/x/trial_0061/checkpoint (deflated 48%)\n",
            "  adding: content/ecg_modelv1/x/trial_0030/ (stored 0%)\n",
            "  adding: content/ecg_modelv1/x/trial_0030/checkpoint.index (deflated 60%)\n",
            "  adding: content/ecg_modelv1/x/trial_0030/checkpoint.data-00000-of-00001 (deflated 10%)\n",
            "  adding: content/ecg_modelv1/x/trial_0030/trial.json (deflated 81%)\n",
            "  adding: content/ecg_modelv1/x/trial_0030/checkpoint (deflated 48%)\n",
            "  adding: content/ecg_modelv1/x/trial_0043/ (stored 0%)\n",
            "  adding: content/ecg_modelv1/x/trial_0043/checkpoint.index (deflated 59%)\n",
            "  adding: content/ecg_modelv1/x/trial_0043/checkpoint.data-00000-of-00001 (deflated 39%)\n",
            "  adding: content/ecg_modelv1/x/trial_0043/trial.json (deflated 81%)\n",
            "  adding: content/ecg_modelv1/x/trial_0043/checkpoint (deflated 48%)\n",
            "  adding: content/ecg_modelv1/x/trial_0014/ (stored 0%)\n",
            "  adding: content/ecg_modelv1/x/trial_0014/checkpoint.index (deflated 61%)\n",
            "  adding: content/ecg_modelv1/x/trial_0014/checkpoint.data-00000-of-00001 (deflated 11%)\n",
            "  adding: content/ecg_modelv1/x/trial_0014/trial.json (deflated 81%)\n",
            "  adding: content/ecg_modelv1/x/trial_0014/checkpoint (deflated 48%)\n",
            "  adding: content/ecg_modelv1/x/trial_0088/ (stored 0%)\n",
            "  adding: content/ecg_modelv1/x/trial_0088/checkpoint.index (deflated 63%)\n",
            "  adding: content/ecg_modelv1/x/trial_0088/checkpoint.data-00000-of-00001 (deflated 11%)\n",
            "  adding: content/ecg_modelv1/x/trial_0088/trial.json (deflated 81%)\n",
            "  adding: content/ecg_modelv1/x/trial_0088/checkpoint (deflated 48%)\n",
            "  adding: content/ecg_modelv1/x/trial_0075/ (stored 0%)\n",
            "  adding: content/ecg_modelv1/x/trial_0075/checkpoint.index (deflated 64%)\n",
            "  adding: content/ecg_modelv1/x/trial_0075/checkpoint.data-00000-of-00001 (deflated 13%)\n",
            "  adding: content/ecg_modelv1/x/trial_0075/trial.json (deflated 81%)\n",
            "  adding: content/ecg_modelv1/x/trial_0075/checkpoint (deflated 48%)\n",
            "  adding: content/ecg_modelv1/x/trial_0052/ (stored 0%)\n",
            "  adding: content/ecg_modelv1/x/trial_0052/checkpoint.index (deflated 61%)\n",
            "  adding: content/ecg_modelv1/x/trial_0052/checkpoint.data-00000-of-00001 (deflated 9%)\n",
            "  adding: content/ecg_modelv1/x/trial_0052/trial.json (deflated 81%)\n",
            "  adding: content/ecg_modelv1/x/trial_0052/checkpoint (deflated 48%)\n",
            "  adding: content/ecg_modelv1/x/trial_0066/ (stored 0%)\n",
            "  adding: content/ecg_modelv1/x/trial_0066/checkpoint.index (deflated 64%)\n",
            "  adding: content/ecg_modelv1/x/trial_0066/checkpoint.data-00000-of-00001 (deflated 19%)\n",
            "  adding: content/ecg_modelv1/x/trial_0066/trial.json (deflated 81%)\n",
            "  adding: content/ecg_modelv1/x/trial_0066/checkpoint (deflated 48%)\n",
            "  adding: content/ecg_modelv1/x/trial_0068/ (stored 0%)\n",
            "  adding: content/ecg_modelv1/x/trial_0068/checkpoint.index (deflated 64%)\n",
            "  adding: content/ecg_modelv1/x/trial_0068/checkpoint.data-00000-of-00001 (deflated 19%)\n",
            "  adding: content/ecg_modelv1/x/trial_0068/trial.json (deflated 81%)\n",
            "  adding: content/ecg_modelv1/x/trial_0068/checkpoint (deflated 48%)\n",
            "  adding: content/ecg_modelv1/x/trial_0082/ (stored 0%)\n",
            "  adding: content/ecg_modelv1/x/trial_0082/checkpoint.index (deflated 62%)\n",
            "  adding: content/ecg_modelv1/x/trial_0082/checkpoint.data-00000-of-00001 (deflated 21%)\n",
            "  adding: content/ecg_modelv1/x/trial_0082/trial.json (deflated 81%)\n",
            "  adding: content/ecg_modelv1/x/trial_0082/checkpoint (deflated 48%)\n",
            "  adding: content/ecg_modelv1/x/trial_0063/ (stored 0%)\n",
            "  adding: content/ecg_modelv1/x/trial_0063/checkpoint.index (deflated 60%)\n",
            "  adding: content/ecg_modelv1/x/trial_0063/checkpoint.data-00000-of-00001 (deflated 8%)\n",
            "  adding: content/ecg_modelv1/x/trial_0063/trial.json (deflated 81%)\n",
            "  adding: content/ecg_modelv1/x/trial_0063/checkpoint (deflated 48%)\n",
            "  adding: content/ecg_modelv1/x/trial_0023/ (stored 0%)\n",
            "  adding: content/ecg_modelv1/x/trial_0023/checkpoint.index (deflated 63%)\n",
            "  adding: content/ecg_modelv1/x/trial_0023/checkpoint.data-00000-of-00001 (deflated 35%)\n",
            "  adding: content/ecg_modelv1/x/trial_0023/trial.json (deflated 81%)\n",
            "  adding: content/ecg_modelv1/x/trial_0023/checkpoint (deflated 48%)\n",
            "  adding: content/ecg_modelv1/x/trial_0033/ (stored 0%)\n",
            "  adding: content/ecg_modelv1/x/trial_0033/checkpoint.index (deflated 63%)\n",
            "  adding: content/ecg_modelv1/x/trial_0033/checkpoint.data-00000-of-00001 (deflated 38%)\n",
            "  adding: content/ecg_modelv1/x/trial_0033/trial.json (deflated 81%)\n",
            "  adding: content/ecg_modelv1/x/trial_0033/checkpoint (deflated 48%)\n",
            "  adding: content/ecg_modelv1/x/trial_0080/ (stored 0%)\n",
            "  adding: content/ecg_modelv1/x/trial_0080/checkpoint.index (deflated 63%)\n",
            "  adding: content/ecg_modelv1/x/trial_0080/checkpoint.data-00000-of-00001 (deflated 38%)\n",
            "  adding: content/ecg_modelv1/x/trial_0080/trial.json (deflated 81%)\n",
            "  adding: content/ecg_modelv1/x/trial_0080/checkpoint (deflated 48%)\n",
            "  adding: content/ecg_modelv1/x/trial_0021/ (stored 0%)\n",
            "  adding: content/ecg_modelv1/x/trial_0021/checkpoint.index (deflated 59%)\n",
            "  adding: content/ecg_modelv1/x/trial_0021/checkpoint.data-00000-of-00001 (deflated 10%)\n",
            "  adding: content/ecg_modelv1/x/trial_0021/trial.json (deflated 81%)\n",
            "  adding: content/ecg_modelv1/x/trial_0021/checkpoint (deflated 48%)\n",
            "  adding: content/ecg_modelv1/x/trial_0026/ (stored 0%)\n",
            "  adding: content/ecg_modelv1/x/trial_0026/checkpoint.index (deflated 61%)\n",
            "  adding: content/ecg_modelv1/x/trial_0026/checkpoint.data-00000-of-00001 (deflated 8%)\n",
            "  adding: content/ecg_modelv1/x/trial_0026/trial.json (deflated 81%)\n",
            "  adding: content/ecg_modelv1/x/trial_0026/checkpoint (deflated 48%)\n",
            "  adding: content/ecg_modelv1/x/trial_0016/ (stored 0%)\n",
            "  adding: content/ecg_modelv1/x/trial_0016/checkpoint.index (deflated 60%)\n",
            "  adding: content/ecg_modelv1/x/trial_0016/checkpoint.data-00000-of-00001 (deflated 13%)\n",
            "  adding: content/ecg_modelv1/x/trial_0016/trial.json (deflated 81%)\n",
            "  adding: content/ecg_modelv1/x/trial_0016/checkpoint (deflated 48%)\n",
            "  adding: content/ecg_modelv1/x/trial_0042/ (stored 0%)\n",
            "  adding: content/ecg_modelv1/x/trial_0042/checkpoint.index (deflated 63%)\n",
            "  adding: content/ecg_modelv1/x/trial_0042/checkpoint.data-00000-of-00001 (deflated 21%)\n",
            "  adding: content/ecg_modelv1/x/trial_0042/trial.json (deflated 81%)\n",
            "  adding: content/ecg_modelv1/x/trial_0042/checkpoint (deflated 48%)\n",
            "  adding: content/ecg_modelv1/x/trial_0008/ (stored 0%)\n",
            "  adding: content/ecg_modelv1/x/trial_0008/checkpoint.index (deflated 60%)\n",
            "  adding: content/ecg_modelv1/x/trial_0008/checkpoint.data-00000-of-00001 (deflated 17%)\n",
            "  adding: content/ecg_modelv1/x/trial_0008/trial.json (deflated 81%)\n",
            "  adding: content/ecg_modelv1/x/trial_0008/checkpoint (deflated 48%)\n",
            "  adding: content/ecg_modelv1/x/trial_0044/ (stored 0%)\n",
            "  adding: content/ecg_modelv1/x/trial_0044/checkpoint.index (deflated 62%)\n",
            "  adding: content/ecg_modelv1/x/trial_0044/checkpoint.data-00000-of-00001 (deflated 14%)\n",
            "  adding: content/ecg_modelv1/x/trial_0044/trial.json (deflated 81%)\n",
            "  adding: content/ecg_modelv1/x/trial_0044/checkpoint (deflated 48%)\n",
            "  adding: content/ecg_modelv1/x/trial_0050/ (stored 0%)\n",
            "  adding: content/ecg_modelv1/x/trial_0050/checkpoint.index (deflated 64%)\n",
            "  adding: content/ecg_modelv1/x/trial_0050/checkpoint.data-00000-of-00001 (deflated 18%)\n",
            "  adding: content/ecg_modelv1/x/trial_0050/trial.json (deflated 81%)\n",
            "  adding: content/ecg_modelv1/x/trial_0050/checkpoint (deflated 48%)\n",
            "  adding: content/ecg_modelv1/x/trial_0009/ (stored 0%)\n",
            "  adding: content/ecg_modelv1/x/trial_0009/checkpoint.index (deflated 61%)\n",
            "  adding: content/ecg_modelv1/x/trial_0009/checkpoint.data-00000-of-00001 (deflated 9%)\n",
            "  adding: content/ecg_modelv1/x/trial_0009/trial.json (deflated 81%)\n",
            "  adding: content/ecg_modelv1/x/trial_0009/checkpoint (deflated 48%)\n",
            "  adding: content/ecg_modelv1/x/trial_0083/ (stored 0%)\n",
            "  adding: content/ecg_modelv1/x/trial_0083/checkpoint.index (deflated 59%)\n",
            "  adding: content/ecg_modelv1/x/trial_0083/checkpoint.data-00000-of-00001 (deflated 25%)\n",
            "  adding: content/ecg_modelv1/x/trial_0083/trial.json (deflated 81%)\n",
            "  adding: content/ecg_modelv1/x/trial_0083/checkpoint (deflated 48%)\n",
            "  adding: content/ecg_modelv1/x/trial_0073/ (stored 0%)\n",
            "  adding: content/ecg_modelv1/x/trial_0073/checkpoint.index (deflated 62%)\n",
            "  adding: content/ecg_modelv1/x/trial_0073/checkpoint.data-00000-of-00001 (deflated 19%)\n",
            "  adding: content/ecg_modelv1/x/trial_0073/trial.json (deflated 81%)\n",
            "  adding: content/ecg_modelv1/x/trial_0073/checkpoint (deflated 48%)\n",
            "  adding: content/ecg_modelv1/x/trial_0084/ (stored 0%)\n",
            "  adding: content/ecg_modelv1/x/trial_0084/checkpoint.index (deflated 61%)\n",
            "  adding: content/ecg_modelv1/x/trial_0084/checkpoint.data-00000-of-00001 (deflated 18%)\n",
            "  adding: content/ecg_modelv1/x/trial_0084/trial.json (deflated 81%)\n",
            "  adding: content/ecg_modelv1/x/trial_0084/checkpoint (deflated 48%)\n",
            "  adding: content/ecg_modelv1/x/trial_0027/ (stored 0%)\n",
            "  adding: content/ecg_modelv1/x/trial_0027/checkpoint.index (deflated 65%)\n",
            "  adding: content/ecg_modelv1/x/trial_0027/checkpoint.data-00000-of-00001 (deflated 9%)\n",
            "  adding: content/ecg_modelv1/x/trial_0027/trial.json (deflated 81%)\n",
            "  adding: content/ecg_modelv1/x/trial_0027/checkpoint (deflated 48%)\n",
            "  adding: content/ecg_modelv1/x/trial_0064/ (stored 0%)\n",
            "  adding: content/ecg_modelv1/x/trial_0064/checkpoint.index (deflated 63%)\n",
            "  adding: content/ecg_modelv1/x/trial_0064/checkpoint.data-00000-of-00001 (deflated 18%)\n",
            "  adding: content/ecg_modelv1/x/trial_0064/trial.json (deflated 81%)\n",
            "  adding: content/ecg_modelv1/x/trial_0064/checkpoint (deflated 48%)\n",
            "  adding: content/ecg_modelv1/x/trial_0003/ (stored 0%)\n",
            "  adding: content/ecg_modelv1/x/trial_0003/checkpoint.index (deflated 63%)\n",
            "  adding: content/ecg_modelv1/x/trial_0003/checkpoint.data-00000-of-00001 (deflated 12%)\n",
            "  adding: content/ecg_modelv1/x/trial_0003/trial.json (deflated 81%)\n",
            "  adding: content/ecg_modelv1/x/trial_0003/checkpoint (deflated 48%)\n",
            "  adding: content/ecg_modelv1/x/trial_0069/ (stored 0%)\n",
            "  adding: content/ecg_modelv1/x/trial_0069/checkpoint.index (deflated 63%)\n",
            "  adding: content/ecg_modelv1/x/trial_0069/checkpoint.data-00000-of-00001 (deflated 20%)\n",
            "  adding: content/ecg_modelv1/x/trial_0069/trial.json (deflated 81%)\n",
            "  adding: content/ecg_modelv1/x/trial_0069/checkpoint (deflated 48%)\n",
            "  adding: content/ecg_modelv1/x/trial_0057/ (stored 0%)\n",
            "  adding: content/ecg_modelv1/x/trial_0057/checkpoint.index (deflated 61%)\n",
            "  adding: content/ecg_modelv1/x/trial_0057/checkpoint.data-00000-of-00001 (deflated 13%)\n",
            "  adding: content/ecg_modelv1/x/trial_0057/trial.json (deflated 81%)\n",
            "  adding: content/ecg_modelv1/x/trial_0057/checkpoint (deflated 48%)\n",
            "  adding: content/ecg_modelv1/x/trial_0001/ (stored 0%)\n",
            "  adding: content/ecg_modelv1/x/trial_0001/checkpoint.index (deflated 63%)\n",
            "  adding: content/ecg_modelv1/x/trial_0001/checkpoint.data-00000-of-00001 (deflated 20%)\n",
            "  adding: content/ecg_modelv1/x/trial_0001/trial.json (deflated 80%)\n",
            "  adding: content/ecg_modelv1/x/trial_0001/checkpoint (deflated 48%)\n",
            "  adding: content/ecg_modelv1/x/trial_0035/ (stored 0%)\n",
            "  adding: content/ecg_modelv1/x/trial_0035/checkpoint.index (deflated 63%)\n",
            "  adding: content/ecg_modelv1/x/trial_0035/checkpoint.data-00000-of-00001 (deflated 26%)\n",
            "  adding: content/ecg_modelv1/x/trial_0035/trial.json (deflated 81%)\n",
            "  adding: content/ecg_modelv1/x/trial_0035/checkpoint (deflated 48%)\n",
            "  adding: content/ecg_modelv1/x/trial_0025/ (stored 0%)\n",
            "  adding: content/ecg_modelv1/x/trial_0025/checkpoint.index (deflated 62%)\n",
            "  adding: content/ecg_modelv1/x/trial_0025/checkpoint.data-00000-of-00001 (deflated 20%)\n",
            "  adding: content/ecg_modelv1/x/trial_0025/trial.json (deflated 81%)\n",
            "  adding: content/ecg_modelv1/x/trial_0025/checkpoint (deflated 48%)\n",
            "  adding: content/ecg_modelv1/x/trial_0074/ (stored 0%)\n",
            "  adding: content/ecg_modelv1/x/trial_0074/checkpoint.index (deflated 63%)\n",
            "  adding: content/ecg_modelv1/x/trial_0074/checkpoint.data-00000-of-00001 (deflated 21%)\n",
            "  adding: content/ecg_modelv1/x/trial_0074/trial.json (deflated 81%)\n",
            "  adding: content/ecg_modelv1/x/trial_0074/checkpoint (deflated 48%)\n",
            "  adding: content/ecg_modelv1/x/trial_0065/ (stored 0%)\n",
            "  adding: content/ecg_modelv1/x/trial_0065/checkpoint.index (deflated 63%)\n",
            "  adding: content/ecg_modelv1/x/trial_0065/checkpoint.data-00000-of-00001 (deflated 10%)\n",
            "  adding: content/ecg_modelv1/x/trial_0065/trial.json (deflated 81%)\n",
            "  adding: content/ecg_modelv1/x/trial_0065/checkpoint (deflated 48%)\n",
            "  adding: content/ecg_modelv1/x/trial_0058/ (stored 0%)\n",
            "  adding: content/ecg_modelv1/x/trial_0058/checkpoint.index (deflated 61%)\n",
            "  adding: content/ecg_modelv1/x/trial_0058/checkpoint.data-00000-of-00001 (deflated 40%)\n",
            "  adding: content/ecg_modelv1/x/trial_0058/trial.json (deflated 81%)\n",
            "  adding: content/ecg_modelv1/x/trial_0058/checkpoint (deflated 48%)\n",
            "  adding: content/ecg_modelv1/x/trial_0067/ (stored 0%)\n",
            "  adding: content/ecg_modelv1/x/trial_0067/checkpoint.index (deflated 63%)\n",
            "  adding: content/ecg_modelv1/x/trial_0067/checkpoint.data-00000-of-00001 (deflated 19%)\n",
            "  adding: content/ecg_modelv1/x/trial_0067/trial.json (deflated 81%)\n",
            "  adding: content/ecg_modelv1/x/trial_0067/checkpoint (deflated 48%)\n",
            "  adding: content/ecg_modelv1/x/trial_0019/ (stored 0%)\n",
            "  adding: content/ecg_modelv1/x/trial_0019/checkpoint.index (deflated 63%)\n",
            "  adding: content/ecg_modelv1/x/trial_0019/checkpoint.data-00000-of-00001 (deflated 38%)\n",
            "  adding: content/ecg_modelv1/x/trial_0019/trial.json (deflated 81%)\n",
            "  adding: content/ecg_modelv1/x/trial_0019/checkpoint (deflated 48%)\n",
            "  adding: content/ecg_modelv1/x/trial_0046/ (stored 0%)\n",
            "  adding: content/ecg_modelv1/x/trial_0046/checkpoint.index (deflated 61%)\n",
            "  adding: content/ecg_modelv1/x/trial_0046/checkpoint.data-00000-of-00001 (deflated 21%)\n",
            "  adding: content/ecg_modelv1/x/trial_0046/trial.json (deflated 81%)\n",
            "  adding: content/ecg_modelv1/x/trial_0046/checkpoint (deflated 48%)\n",
            "  adding: content/ecg_modelv1/x/trial_0081/ (stored 0%)\n",
            "  adding: content/ecg_modelv1/x/trial_0081/checkpoint.index (deflated 63%)\n",
            "  adding: content/ecg_modelv1/x/trial_0081/checkpoint.data-00000-of-00001 (deflated 13%)\n",
            "  adding: content/ecg_modelv1/x/trial_0081/trial.json (deflated 81%)\n",
            "  adding: content/ecg_modelv1/x/trial_0081/checkpoint (deflated 48%)\n",
            "  adding: content/ecg_modelv1/x/trial_0034/ (stored 0%)\n",
            "  adding: content/ecg_modelv1/x/trial_0034/checkpoint.index (deflated 64%)\n",
            "  adding: content/ecg_modelv1/x/trial_0034/checkpoint.data-00000-of-00001 (deflated 17%)\n",
            "  adding: content/ecg_modelv1/x/trial_0034/trial.json (deflated 81%)\n",
            "  adding: content/ecg_modelv1/x/trial_0034/checkpoint (deflated 48%)\n",
            "  adding: content/ecg_modelv1/x/trial_0062/ (stored 0%)\n",
            "  adding: content/ecg_modelv1/x/trial_0062/checkpoint.index (deflated 61%)\n",
            "  adding: content/ecg_modelv1/x/trial_0062/checkpoint.data-00000-of-00001 (deflated 39%)\n",
            "  adding: content/ecg_modelv1/x/trial_0062/trial.json (deflated 81%)\n",
            "  adding: content/ecg_modelv1/x/trial_0062/checkpoint (deflated 48%)\n",
            "  adding: content/ecg_modelv1/x/trial_0051/ (stored 0%)\n",
            "  adding: content/ecg_modelv1/x/trial_0051/checkpoint.index (deflated 61%)\n",
            "  adding: content/ecg_modelv1/x/trial_0051/checkpoint.data-00000-of-00001 (deflated 21%)\n",
            "  adding: content/ecg_modelv1/x/trial_0051/trial.json (deflated 81%)\n",
            "  adding: content/ecg_modelv1/x/trial_0051/checkpoint (deflated 48%)\n",
            "  adding: content/ecg_modelv1/x/trial_0039/ (stored 0%)\n",
            "  adding: content/ecg_modelv1/x/trial_0039/checkpoint.index (deflated 59%)\n",
            "  adding: content/ecg_modelv1/x/trial_0039/checkpoint.data-00000-of-00001 (deflated 22%)\n",
            "  adding: content/ecg_modelv1/x/trial_0039/trial.json (deflated 81%)\n",
            "  adding: content/ecg_modelv1/x/trial_0039/checkpoint (deflated 48%)\n",
            "  adding: content/ecg_modelv1/x/trial_0077/ (stored 0%)\n",
            "  adding: content/ecg_modelv1/x/trial_0077/checkpoint.index (deflated 63%)\n",
            "  adding: content/ecg_modelv1/x/trial_0077/checkpoint.data-00000-of-00001 (deflated 11%)\n",
            "  adding: content/ecg_modelv1/x/trial_0077/trial.json (deflated 81%)\n",
            "  adding: content/ecg_modelv1/x/trial_0077/checkpoint (deflated 48%)\n",
            "  adding: content/ecg_modelv1/x/trial_0047/ (stored 0%)\n",
            "  adding: content/ecg_modelv1/x/trial_0047/checkpoint.index (deflated 64%)\n",
            "  adding: content/ecg_modelv1/x/trial_0047/checkpoint.data-00000-of-00001 (deflated 17%)\n",
            "  adding: content/ecg_modelv1/x/trial_0047/trial.json (deflated 81%)\n",
            "  adding: content/ecg_modelv1/x/trial_0047/checkpoint (deflated 48%)\n",
            "  adding: content/ecg_modelv1/x/trial_0045/ (stored 0%)\n",
            "  adding: content/ecg_modelv1/x/trial_0045/checkpoint.index (deflated 61%)\n",
            "  adding: content/ecg_modelv1/x/trial_0045/checkpoint.data-00000-of-00001 (deflated 38%)\n",
            "  adding: content/ecg_modelv1/x/trial_0045/trial.json (deflated 81%)\n",
            "  adding: content/ecg_modelv1/x/trial_0045/checkpoint (deflated 48%)\n",
            "  adding: content/ecg_modelv1/x/trial_0071/ (stored 0%)\n",
            "  adding: content/ecg_modelv1/x/trial_0071/checkpoint.index (deflated 61%)\n",
            "  adding: content/ecg_modelv1/x/trial_0071/checkpoint.data-00000-of-00001 (deflated 20%)\n",
            "  adding: content/ecg_modelv1/x/trial_0071/trial.json (deflated 81%)\n",
            "  adding: content/ecg_modelv1/x/trial_0071/checkpoint (deflated 48%)\n",
            "  adding: content/ecg_modelv1/x/trial_0054/ (stored 0%)\n",
            "  adding: content/ecg_modelv1/x/trial_0054/checkpoint.index (deflated 61%)\n",
            "  adding: content/ecg_modelv1/x/trial_0054/checkpoint.data-00000-of-00001 (deflated 19%)\n",
            "  adding: content/ecg_modelv1/x/trial_0054/trial.json (deflated 81%)\n",
            "  adding: content/ecg_modelv1/x/trial_0054/checkpoint (deflated 48%)\n",
            "  adding: content/ecg_modelv1/x/trial_0070/ (stored 0%)\n",
            "  adding: content/ecg_modelv1/x/trial_0070/checkpoint.index (deflated 62%)\n",
            "  adding: content/ecg_modelv1/x/trial_0070/checkpoint.data-00000-of-00001 (deflated 24%)\n",
            "  adding: content/ecg_modelv1/x/trial_0070/trial.json (deflated 81%)\n",
            "  adding: content/ecg_modelv1/x/trial_0070/checkpoint (deflated 48%)\n",
            "  adding: content/ecg_modelv1/x/trial_0085/ (stored 0%)\n",
            "  adding: content/ecg_modelv1/x/trial_0085/checkpoint.index (deflated 62%)\n",
            "  adding: content/ecg_modelv1/x/trial_0085/checkpoint.data-00000-of-00001 (deflated 40%)\n",
            "  adding: content/ecg_modelv1/x/trial_0085/trial.json (deflated 81%)\n",
            "  adding: content/ecg_modelv1/x/trial_0085/checkpoint (deflated 48%)\n",
            "  adding: content/ecg_modelv1/x/trial_0031/ (stored 0%)\n",
            "  adding: content/ecg_modelv1/x/trial_0031/checkpoint.index (deflated 63%)\n",
            "  adding: content/ecg_modelv1/x/trial_0031/checkpoint.data-00000-of-00001 (deflated 10%)\n",
            "  adding: content/ecg_modelv1/x/trial_0031/trial.json (deflated 81%)\n",
            "  adding: content/ecg_modelv1/x/trial_0031/checkpoint (deflated 48%)\n",
            "  adding: content/ecg_modelv1/x/trial_0053/ (stored 0%)\n",
            "  adding: content/ecg_modelv1/x/trial_0053/checkpoint.index (deflated 61%)\n",
            "  adding: content/ecg_modelv1/x/trial_0053/checkpoint.data-00000-of-00001 (deflated 21%)\n",
            "  adding: content/ecg_modelv1/x/trial_0053/trial.json (deflated 81%)\n",
            "  adding: content/ecg_modelv1/x/trial_0053/checkpoint (deflated 48%)\n",
            "  adding: content/ecg_modelv1/x/trial_0011/ (stored 0%)\n",
            "  adding: content/ecg_modelv1/x/trial_0011/checkpoint.index (deflated 61%)\n",
            "  adding: content/ecg_modelv1/x/trial_0011/checkpoint.data-00000-of-00001 (deflated 20%)\n",
            "  adding: content/ecg_modelv1/x/trial_0011/trial.json (deflated 81%)\n",
            "  adding: content/ecg_modelv1/x/trial_0011/checkpoint (deflated 48%)\n",
            "  adding: content/ecg_modelv1/x/trial_0078/ (stored 0%)\n",
            "  adding: content/ecg_modelv1/x/trial_0078/checkpoint.index (deflated 61%)\n",
            "  adding: content/ecg_modelv1/x/trial_0078/checkpoint.data-00000-of-00001 (deflated 18%)\n",
            "  adding: content/ecg_modelv1/x/trial_0078/trial.json (deflated 81%)\n",
            "  adding: content/ecg_modelv1/x/trial_0078/checkpoint (deflated 48%)\n",
            "  adding: content/ecg_modelv1/x/trial_0018/ (stored 0%)\n",
            "  adding: content/ecg_modelv1/x/trial_0018/checkpoint.index (deflated 62%)\n",
            "  adding: content/ecg_modelv1/x/trial_0018/checkpoint.data-00000-of-00001 (deflated 38%)\n",
            "  adding: content/ecg_modelv1/x/trial_0018/trial.json (deflated 81%)\n",
            "  adding: content/ecg_modelv1/x/trial_0018/checkpoint (deflated 48%)\n",
            "  adding: content/ecg_modelv1/x/trial_0056/ (stored 0%)\n",
            "  adding: content/ecg_modelv1/x/trial_0056/checkpoint.index (deflated 64%)\n",
            "  adding: content/ecg_modelv1/x/trial_0056/checkpoint.data-00000-of-00001 (deflated 20%)\n",
            "  adding: content/ecg_modelv1/x/trial_0056/trial.json (deflated 81%)\n",
            "  adding: content/ecg_modelv1/x/trial_0056/checkpoint (deflated 48%)\n",
            "  adding: content/ecg_modelv1/x/trial_0040/ (stored 0%)\n",
            "  adding: content/ecg_modelv1/x/trial_0040/checkpoint.index (deflated 64%)\n",
            "  adding: content/ecg_modelv1/x/trial_0040/checkpoint.data-00000-of-00001 (deflated 16%)\n",
            "  adding: content/ecg_modelv1/x/trial_0040/trial.json (deflated 81%)\n",
            "  adding: content/ecg_modelv1/x/trial_0040/checkpoint (deflated 48%)\n",
            "  adding: content/ecg_modelv1/x/trial_0013/ (stored 0%)\n",
            "  adding: content/ecg_modelv1/x/trial_0013/checkpoint.index (deflated 62%)\n",
            "  adding: content/ecg_modelv1/x/trial_0013/checkpoint.data-00000-of-00001 (deflated 9%)\n",
            "  adding: content/ecg_modelv1/x/trial_0013/trial.json (deflated 81%)\n",
            "  adding: content/ecg_modelv1/x/trial_0013/checkpoint (deflated 48%)\n",
            "  adding: content/ecg_modelv1/x/trial_0036/ (stored 0%)\n",
            "  adding: content/ecg_modelv1/x/trial_0036/checkpoint.index (deflated 60%)\n",
            "  adding: content/ecg_modelv1/x/trial_0036/checkpoint.data-00000-of-00001 (deflated 16%)\n",
            "  adding: content/ecg_modelv1/x/trial_0036/trial.json (deflated 81%)\n",
            "  adding: content/ecg_modelv1/x/trial_0036/checkpoint (deflated 48%)\n",
            "  adding: content/ecg_modelv1/x/trial_0000/ (stored 0%)\n",
            "  adding: content/ecg_modelv1/x/trial_0000/checkpoint.index (deflated 61%)\n",
            "  adding: content/ecg_modelv1/x/trial_0000/checkpoint.data-00000-of-00001 (deflated 33%)\n",
            "  adding: content/ecg_modelv1/x/trial_0000/trial.json (deflated 78%)\n",
            "  adding: content/ecg_modelv1/x/trial_0000/checkpoint (deflated 48%)\n",
            "  adding: content/ecg_modelv1/x/trial_0015/ (stored 0%)\n",
            "  adding: content/ecg_modelv1/x/trial_0015/checkpoint.index (deflated 63%)\n",
            "  adding: content/ecg_modelv1/x/trial_0015/checkpoint.data-00000-of-00001 (deflated 14%)\n",
            "  adding: content/ecg_modelv1/x/trial_0015/trial.json (deflated 81%)\n",
            "  adding: content/ecg_modelv1/x/trial_0015/checkpoint (deflated 48%)\n",
            "  adding: content/ecg_modelv1/x/trial_0017/ (stored 0%)\n",
            "  adding: content/ecg_modelv1/x/trial_0017/checkpoint.index (deflated 64%)\n",
            "  adding: content/ecg_modelv1/x/trial_0017/checkpoint.data-00000-of-00001 (deflated 15%)\n",
            "  adding: content/ecg_modelv1/x/trial_0017/trial.json (deflated 81%)\n",
            "  adding: content/ecg_modelv1/x/trial_0017/checkpoint (deflated 48%)\n",
            "  adding: content/ecg_modelv1/x/trial_0037/ (stored 0%)\n",
            "  adding: content/ecg_modelv1/x/trial_0037/checkpoint.index (deflated 61%)\n",
            "  adding: content/ecg_modelv1/x/trial_0037/checkpoint.data-00000-of-00001 (deflated 20%)\n",
            "  adding: content/ecg_modelv1/x/trial_0037/trial.json (deflated 81%)\n",
            "  adding: content/ecg_modelv1/x/trial_0037/checkpoint (deflated 48%)\n"
          ]
        }
      ]
    },
    {
      "cell_type": "code",
      "execution_count": 37,
      "metadata": {
        "colab": {
          "base_uri": "https://localhost:8080/",
          "height": 647
        },
        "id": "XVEvog43i39R",
        "outputId": "1dd3b962-0d96-4261-d742-cbc2e6d0f26e"
      },
      "outputs": [
        {
          "output_type": "stream",
          "name": "stdout",
          "text": [
            "685/685 [==============================] - 2s 3ms/step\n",
            "Confusion Matrix:\n",
            "tf.Tensor(\n",
            "[[17430   325   205   104    54]\n",
            " [   70   471    14     1     0]\n",
            " [   31    16  1354    38     9]\n",
            " [   11     2     7   142     0]\n",
            " [   18     4     6     1  1579]], shape=(5, 5), dtype=int32)\n"
          ]
        },
        {
          "output_type": "display_data",
          "data": {
            "text/plain": [
              "<Figure size 500x500 with 1 Axes>"
            ],
            "image/png": "[encoded data removed]"
          },
          "metadata": {}
        }
      ],
      "source": [
        "y_pred = model.predict(X_test_f)\n",
        "y_pred_classes = tf.argmax(y_pred, axis=1)\n",
        "\n",
        "\n",
        "y_test = y_test.astype(int)\n",
        "\n",
        "\n",
        "confusion_matrix = tf.math.confusion_matrix(y_test, y_pred_classes, num_classes=5)\n",
        "print(\"Confusion Matrix:\")\n",
        "print(confusion_matrix)\n",
        "\n",
        "\n",
        "plt.figure(figsize=(5, 5))\n",
        "sns.set(font_scale=1.2)\n",
        "sns.heatmap(confusion_matrix, annot=True, fmt='d', cmap='Blues', cbar=False)\n",
        "\n",
        "plt.xticks(ticks=[0.5, 1.5, 2.5, 3.5, 4.5], labels=[1, 2, 3, 4, 5])\n",
        "plt.yticks(ticks=[0.5, 1.5, 2.5, 3.5, 4.5], labels=[1, 2, 3, 4, 5])\n",
        "\n",
        "plt.xlabel('Predicted Labels')\n",
        "plt.ylabel('True Labels')\n",
        "plt.title('Confusion Matrix')\n",
        "\n",
        "plt.show()"
      ]
    },
    {
      "cell_type": "code",
      "execution_count": 38,
      "metadata": {
        "colab": {
          "base_uri": "https://localhost:8080/"
        },
        "id": "TU7DD2fmvCPq",
        "outputId": "b4cd6814-efef-4917-d081-111f1b05cc78"
      },
      "outputs": [
        {
          "output_type": "stream",
          "name": "stdout",
          "text": [
            "              precision    recall  f1-score   support\n",
            "\n",
            "           0       0.99      0.96      0.98     18118\n",
            "           1       0.58      0.85      0.69       556\n",
            "           2       0.85      0.94      0.89      1448\n",
            "           3       0.50      0.88      0.63       162\n",
            "           4       0.96      0.98      0.97      1608\n",
            "\n",
            "    accuracy                           0.96     21892\n",
            "   macro avg       0.78      0.92      0.83     21892\n",
            "weighted avg       0.97      0.96      0.96     21892\n",
            "\n"
          ]
        }
      ],
      "source": [
        "classification_rep = classification_report( y_test , y_pred_classes)\n",
        "print(classification_rep)"
      ]
    }
  ],
  "metadata": {
    "accelerator": "GPU",
    "colab": {
      "provenance": [],
      "include_colab_link": true
    },
    "kernelspec": {
      "display_name": "Python 3",
      "name": "python3"
    },
    "language_info": {
      "name": "python"
    }
  },
  "nbformat": 4,
  "nbformat_minor": 0
}